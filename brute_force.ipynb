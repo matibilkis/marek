{
 "cells": [
  {
   "cell_type": "code",
   "execution_count": 99,
   "id": "designing-course",
   "metadata": {},
   "outputs": [
    {
     "name": "stdout",
     "output_type": "stream",
     "text": [
      "The autoreload extension is already loaded. To reload it, use:\n",
      "  %reload_ext autoreload\n"
     ]
    }
   ],
   "source": [
    "%load_ext autoreload\n",
    "%autoreload 2\n",
    "\n",
    "import numpy as np\n",
    "import matplotlib.pyplot as plt\n",
    "import misc\n",
    "from scipy import optimize\n",
    "from tqdm import tqdm\n",
    "import os \n",
    "import pandas as pd \n",
    "from misc import *\n",
    "from scipy import optimize\n",
    "from math import erf\n",
    "from agent import Agent"
   ]
  },
  {
   "cell_type": "markdown",
   "id": "entertaining-approval",
   "metadata": {},
   "source": [
    "Helstrom"
   ]
  },
  {
   "cell_type": "code",
   "execution_count": 81,
   "id": "central-engineer",
   "metadata": {},
   "outputs": [],
   "source": [
    "def coherent_state(alpha,Ntrunc=30):\n",
    "    return np.exp(-alpha**2/2)*np.array([np.power(alpha,n)/np.sqrt(float(np.math.factorial(n))) for n in range(Ntrunc)])\n",
    "\n",
    "def rho(state):\n",
    "    if len(list(state.shape))>1:\n",
    "        pass\n",
    "    else:\n",
    "        state = np.expand_dims(state, [0])\n",
    "    return np.dot(state.T,state)\n",
    "\n",
    "def helstrom_bound(alpha, epsilon=0.01):\n",
    "    rhoAP = rho(coherent_state(alpha))\n",
    "    rhoAM = rho(coherent_state(-alpha))\n",
    "    rhoBP = rho(coherent_state(np.sqrt(epsilon)*alpha))\n",
    "    rhoBM = rho(coherent_state(-np.sqrt(epsilon)*alpha))\n",
    "    \n",
    "    return 0.5*(1+ 0.5*np.sum(np.abs(  np.linalg.eigvals((rhoAP + rhoBP)/2  - (rhoAM + rhoBM)/2 ))))"
   ]
  },
  {
   "cell_type": "code",
   "execution_count": 10,
   "id": "spectacular-calvin",
   "metadata": {},
   "outputs": [
    {
     "data": {
      "text/plain": [
       "24"
      ]
     },
     "execution_count": 10,
     "metadata": {},
     "output_type": "execute_result"
    }
   ],
   "source": [
    "agent =Agent(channel={\"class\":\"compound_lossy\", \"params\":[0.5, 0.01]})"
   ]
  },
  {
   "cell_type": "code",
   "execution_count": 82,
   "id": "friendly-sound",
   "metadata": {},
   "outputs": [],
   "source": [
    "def homodyne(a=0.4, ep=0.01):\n",
    "    beta = np.sqrt(ep)*a\n",
    "    p_err =  (1- erf(np.sqrt(2)*a) + 1 - erf(np.sqrt(2)*beta))/4\n",
    "    return 1-p_err\n",
    "\n",
    "def success_probability_1L(betas, amplitude=0.4):\n",
    "    b0= betas[0]\n",
    "    p=0\n",
    "    for n1 in [0,1]:\n",
    "        ## best guess ?\n",
    "        pguess = [0,0]\n",
    "        for arg,ph in enumerate([-1,1]):\n",
    "            for att in [0.01, 1]:\n",
    "                pguess[arg]+=agent.P(np.sqrt(att)*ph*amplitude, b0 ,1, n1)/4\n",
    "        ## best guess ?\n",
    "        ph = [-1,1][np.argmax(pguess)]\n",
    "        for att in [0.01, 1]:\n",
    "            p+=agent.P(np.sqrt(att)*ph*amplitude, b0 ,1, n1)/4\n",
    "    return -p"
   ]
  },
  {
   "cell_type": "code",
   "execution_count": 8,
   "id": "falling-potential",
   "metadata": {},
   "outputs": [],
   "source": []
  },
  {
   "cell_type": "code",
   "execution_count": 84,
   "id": "living-encyclopedia",
   "metadata": {},
   "outputs": [
    {
     "name": "stderr",
     "output_type": "stream",
     "text": [
      "100%|██████████| 25/25 [00:08<00:00,  2.93it/s]\n"
     ]
    }
   ],
   "source": [
    "amplitudes = np.linspace(.4,4,25)\n",
    "optvals1L = np.zeros(len(amplitudes))\n",
    "for inda, a in enumerate(tqdm(amplitudes)):\n",
    "    blim = 8*a\n",
    "    f=optimize.dual_annealing(success_probability_1L,([(-blim,blim)])*1, args=[a], maxiter=1000,no_local_search=True )\n",
    "    optvals1L[inda] = -f.fun\n",
    "    optbetas1L[inda] = f.x"
   ]
  },
  {
   "cell_type": "code",
   "execution_count": null,
   "id": "pursuant-oriental",
   "metadata": {},
   "outputs": [],
   "source": []
  },
  {
   "cell_type": "code",
   "execution_count": 92,
   "id": "rotary-covering",
   "metadata": {},
   "outputs": [],
   "source": [
    "agent =Agent(channel={\"class\":\"compound_lossy\", \"params\":[0.5, 0.01]})\n",
    "def success_probability_2L(betas, amplitude=0.4):\n",
    "    b0, b1 ,b2 = betas\n",
    "    p=0\n",
    "    for n1,n2 in zip([0,0,1,1],[0,1,0,1]):\n",
    "        ## best guess ?\n",
    "        pguess = [0,0]\n",
    "        for arg,ph in enumerate([-1,1]):\n",
    "            for att in [0.01, 1]:\n",
    "                pguess[arg]+=agent.P(np.sqrt(att)*ph*amplitude, b0 ,1/np.sqrt(2), n1)*agent.P(np.sqrt(att)*ph*amplitude, [b1,b2][n1] ,1/np.sqrt(2), n2)/4\n",
    "        ## best guess ?\n",
    "        ph = [-1,1][np.argmax(pguess)]\n",
    "        for att in [0.01, 1]:\n",
    "            p+=agent.P(np.sqrt(att)*ph*amplitude, b0 ,1/np.sqrt(2), n1)*agent.P(np.sqrt(att)*ph*amplitude, [b1,b2][n1] ,1/np.sqrt(2), n2)/4\n",
    "    return -p"
   ]
  },
  {
   "cell_type": "code",
   "execution_count": 94,
   "id": "assured-trick",
   "metadata": {},
   "outputs": [
    {
     "name": "stderr",
     "output_type": "stream",
     "text": [
      "100%|██████████| 25/25 [02:10<00:00,  5.21s/it]\n"
     ]
    }
   ],
   "source": [
    "amplitudes = np.linspace(.4, 4,25)\n",
    "optvals2L = np.zeros(len(amplitudes))\n",
    "optbetas2L = np.zeros((len(amplitudes), 3))\n",
    "for inda, a in enumerate(tqdm(amplitudes)):\n",
    "    blim = 10*a\n",
    "    f=optimize.dual_annealing(success_probability_2L,([(-blim,blim)])*3, args=[a], maxiter=2000,no_local_search=True )\n",
    "    optvals2L[inda] = -f.fun\n",
    "    optbetas2L[inda] = f.x"
   ]
  },
  {
   "cell_type": "code",
   "execution_count": 97,
   "id": "interior-jamaica",
   "metadata": {},
   "outputs": [
    {
     "data": {
      "text/plain": [
       "<matplotlib.legend.Legend at 0x7ff7a46df128>"
      ]
     },
     "execution_count": 97,
     "metadata": {},
     "output_type": "execute_result"
    },
    {
     "data": {
      "image/png": "[encoded data removed]",
      "text/plain": [
       "<Figure size 720x720 with 1 Axes>"
      ]
     },
     "metadata": {
      "needs_background": "light"
     },
     "output_type": "display_data"
    }
   ],
   "source": [
    "plt.figure(figsize=(10,10))\n",
    "\n",
    "helstroms = np.array([helstrom_bound(a) for a in amplitudes])\n",
    "homodynes = np.array([homodyne(a) for a in amplitudes])\n",
    "plt.plot(amplitudes,optvals1L, label=\"L=1\")\n",
    "plt.plot(amplitudes,optvals2L, color=\"red\",label=\"L=2\")\n",
    "\n",
    "plt.plot(amplitudes,homodynes, label=\"Homodyne\")\n",
    "plt.plot(amplitudes,helstroms,label=\"Helstrom\")\n",
    "plt.legend()"
   ]
  },
  {
   "cell_type": "code",
   "execution_count": null,
   "id": "russian-clause",
   "metadata": {},
   "outputs": [],
   "source": []
  },
  {
   "cell_type": "code",
   "execution_count": null,
   "id": "south-hampton",
   "metadata": {},
   "outputs": [],
   "source": [
    "agent =Agent(channel={\"class\":\"compound_lossy\", \"params\":[0.5, 0.01]})\n",
    "def success_probability_3L(betas, amplitude=0.4):\n",
    "    b0, b1 ,b2,b3, b4, b5, b6 = betas\n",
    "    p=0\n",
    "    for n1,n2,n3 in zip(*misc.outcomes_universe(3).T):\n",
    "        ## best guess ?\n",
    "        pguess = [0,0]\n",
    "        for arg,ph in enumerate([-1,1]):\n",
    "            for att in [0.01, 1]:\n",
    "                pguess[arg]+=agent.P(np.sqrt(att)*ph*amplitude, b0 ,1/np.sqrt(L), n1)*agent.P(np.sqrt(att)*ph*amplitude, [b1,b2][n1] ,1/np.sqrt(L), n2)*agent.PP(ph*amplitude, np.array([[b3,b4],[b5,b6]])[n1,n2] ,1/np.sqrt(L), n3) /4\n",
    "        ## best guess ?\n",
    "        ph = [-1,1][np.argmax(pguess)]\n",
    "        for att in [0.01, 1]:\n",
    "            p+=agent.P(np.sqrt(att)*ph*amplitude, b0 ,1/np.sqrt(L), n1)*agent.P(np.sqrt(att)*ph*amplitude, [b1,b2][n1] ,1/np.sqrt(L), n2)*agent.PP(ph*amplitude, np.array([[b3,b4],[b5,b6]])[n1,n2] ,1/np.sqrt(L), n3) /4\n",
    "    return -p"
   ]
  },
  {
   "cell_type": "code",
   "execution_count": 100,
   "id": "underlying-cherry",
   "metadata": {},
   "outputs": [
    {
     "name": "stdout",
     "output_type": "stream",
     "text": [
      "0 0 0\n",
      "0 0 1\n",
      "0 1 0\n",
      "0 1 1\n",
      "1 0 0\n",
      "1 0 1\n",
      "1 1 0\n",
      "1 1 1\n"
     ]
    }
   ],
   "source": [
    "for n1,n2,n3 in zip(*misc.outcomes_universe(3).T):\n",
    "    print(n1,n2,n3)"
   ]
  },
  {
   "cell_type": "code",
   "execution_count": null,
   "id": "opened-headset",
   "metadata": {},
   "outputs": [],
   "source": []
  },
  {
   "cell_type": "code",
   "execution_count": 103,
   "id": "close-listing",
   "metadata": {},
   "outputs": [],
   "source": [
    "agent =Agent(channel={\"class\":\"compound_lossy\", \"params\":[0.5, 0.01]})\n",
    "def success_probability_3L(betas, amplitude=0.4):\n",
    "    L=3\n",
    "    b0, b1 ,b2,b3, b4, b5, b6 = betas\n",
    "    p=0\n",
    "    for n1,n2,n3 in zip(*misc.outcomes_universe(3).T):\n",
    "        ph = [-1,1][np.argmax([agent.PP(ph*amplitude, b0 ,1/np.sqrt(L), n1)*agent.PP(ph*amplitude, [b1,b2][n1] ,1/np.sqrt(L), n2)*agent.PP(ph*amplitude, np.array([[b3,b4],[b5,b6]])[n1,n2] ,1/np.sqrt(L), n3) for ph in [-1,1]])]\n",
    "        for att in [0.01, 1]:\n",
    "            p+=agent.P(np.sqrt(att)*ph*amplitude, b0 ,1/np.sqrt(L), n1)*agent.P(np.sqrt(att)*ph*amplitude, [b1,b2][n1] ,1/np.sqrt(L), n2)*agent.PP(ph*amplitude, np.array([[b3,b4],[b5,b6]])[n1,n2] ,1/np.sqrt(L), n3) /4\n",
    "    return -p"
   ]
  },
  {
   "cell_type": "code",
   "execution_count": 104,
   "id": "wrong-actress",
   "metadata": {},
   "outputs": [
    {
     "name": "stderr",
     "output_type": "stream",
     "text": [
      "100%|██████████| 2/2 [00:27<00:00, 13.59s/it]\n"
     ]
    }
   ],
   "source": [
    "amplitudes = [.4, 4]\n",
    "optvals3L = np.zeros(len(amplitudes))\n",
    "optbetas3L = np.zeros((len(amplitudes), 7))\n",
    "for inda, a in enumerate(tqdm(amplitudes)):\n",
    "    blim = 4*a\n",
    "    f=optimize.dual_annealing(success_probability_3L,([(-blim,blim)])*7, args=[a], maxiter=1000,no_local_search=True )\n",
    "    optvals3L[inda] = -f.fun\n",
    "    optbetas3L[inda] = f.x"
   ]
  },
  {
   "cell_type": "code",
   "execution_count": 102,
   "id": "filled-style",
   "metadata": {},
   "outputs": [
    {
     "data": {
      "text/plain": [
       "array([0.45831414, 0.62227762])"
      ]
     },
     "execution_count": 102,
     "metadata": {},
     "output_type": "execute_result"
    }
   ],
   "source": [
    "optvals3L"
   ]
  },
  {
   "cell_type": "code",
   "execution_count": null,
   "id": "dirty-turkish",
   "metadata": {},
   "outputs": [],
   "source": []
  },
  {
   "cell_type": "code",
   "execution_count": null,
   "id": "satisfactory-sport",
   "metadata": {},
   "outputs": [],
   "source": []
  },
  {
   "cell_type": "code",
   "execution_count": 2,
   "id": "blessed-uganda",
   "metadata": {},
   "outputs": [
    {
     "name": "stderr",
     "output_type": "stream",
     "text": [
      "  0%|          | 0/36 [00:02<?, ?it/s]\n"
     ]
    },
    {
     "ename": "KeyboardInterrupt",
     "evalue": "",
     "output_type": "error",
     "traceback": [
      "\u001b[0;31m---------------------------------------------------------------------------\u001b[0m",
      "\u001b[0;31mKeyboardInterrupt\u001b[0m                         Traceback (most recent call last)",
      "\u001b[0;32m<ipython-input-2-6282978a6323>\u001b[0m in \u001b[0;36m<module>\u001b[0;34m\u001b[0m\n\u001b[1;32m     81\u001b[0m             \u001b[0;32mdef\u001b[0m \u001b[0msuc1\u001b[0m\u001b[0;34m(\u001b[0m\u001b[0mbeta\u001b[0m\u001b[0;34m)\u001b[0m\u001b[0;34m:\u001b[0m\u001b[0;34m\u001b[0m\u001b[0;34m\u001b[0m\u001b[0m\n\u001b[1;32m     82\u001b[0m                 \u001b[0;32mreturn\u001b[0m \u001b[0msuc\u001b[0m\u001b[0;34m.\u001b[0m\u001b[0mJ_intermmediate\u001b[0m\u001b[0;34m(\u001b[0m\u001b[0mpr\u001b[0m\u001b[0;34m,\u001b[0m \u001b[0mbeta\u001b[0m\u001b[0;34m[\u001b[0m\u001b[0;36m0\u001b[0m\u001b[0;34m]\u001b[0m\u001b[0;34m,\u001b[0m \u001b[0meff_amplitude\u001b[0m\u001b[0;34m,\u001b[0m \u001b[0mmod\u001b[0m\u001b[0;34m)\u001b[0m\u001b[0;34m\u001b[0m\u001b[0;34m\u001b[0m\u001b[0m\n\u001b[0;32m---> 83\u001b[0;31m             \u001b[0mf\u001b[0m\u001b[0;34m=\u001b[0m\u001b[0moptimize\u001b[0m\u001b[0;34m.\u001b[0m\u001b[0mdual_annealing\u001b[0m\u001b[0;34m(\u001b[0m\u001b[0msuc1\u001b[0m\u001b[0;34m,\u001b[0m \u001b[0;34m[\u001b[0m\u001b[0;34m(\u001b[0m\u001b[0;34m-\u001b[0m\u001b[0;36m1\u001b[0m\u001b[0;34m,\u001b[0m\u001b[0;36m1\u001b[0m\u001b[0;34m)\u001b[0m\u001b[0;34m]\u001b[0m\u001b[0;34m,\u001b[0m \u001b[0mmaxiter\u001b[0m\u001b[0;34m=\u001b[0m\u001b[0;36m200\u001b[0m\u001b[0;34m,\u001b[0m\u001b[0mno_local_search\u001b[0m\u001b[0;34m=\u001b[0m\u001b[0;32mTrue\u001b[0m \u001b[0;34m)\u001b[0m\u001b[0;34m\u001b[0m\u001b[0;34m\u001b[0m\u001b[0m\n\u001b[0m\u001b[1;32m     84\u001b[0m             \u001b[0mobjective_functions\u001b[0m\u001b[0;34m[\u001b[0m\u001b[0mlayer\u001b[0m\u001b[0;34m,\u001b[0m\u001b[0mindp\u001b[0m\u001b[0;34m]\u001b[0m \u001b[0;34m=\u001b[0m \u001b[0;34m-\u001b[0m\u001b[0mf\u001b[0m\u001b[0;34m.\u001b[0m\u001b[0mfun\u001b[0m\u001b[0;34m\u001b[0m\u001b[0;34m\u001b[0m\u001b[0m\n\u001b[1;32m     85\u001b[0m             \u001b[0mdisplacements\u001b[0m\u001b[0;34m[\u001b[0m\u001b[0mlayer\u001b[0m\u001b[0;34m,\u001b[0m\u001b[0mindp\u001b[0m\u001b[0;34m]\u001b[0m \u001b[0;34m=\u001b[0m \u001b[0mf\u001b[0m\u001b[0;34m.\u001b[0m\u001b[0mx\u001b[0m\u001b[0;34m[\u001b[0m\u001b[0;36m0\u001b[0m\u001b[0;34m]\u001b[0m\u001b[0;34m\u001b[0m\u001b[0;34m\u001b[0m\u001b[0m\n",
      "\u001b[0;32m~/.local/lib/python3.6/site-packages/scipy/optimize/_dual_annealing.py\u001b[0m in \u001b[0;36mdual_annealing\u001b[0;34m(func, bounds, args, maxiter, local_search_options, initial_temp, restart_temp_ratio, visit, accept, maxfun, seed, no_local_search, callback, x0)\u001b[0m\n\u001b[1;32m    663\u001b[0m                 \u001b[0;32mbreak\u001b[0m\u001b[0;34m\u001b[0m\u001b[0;34m\u001b[0m\u001b[0m\n\u001b[1;32m    664\u001b[0m             \u001b[0;31m# starting strategy chain\u001b[0m\u001b[0;34m\u001b[0m\u001b[0;34m\u001b[0m\u001b[0;34m\u001b[0m\u001b[0m\n\u001b[0;32m--> 665\u001b[0;31m             \u001b[0mval\u001b[0m \u001b[0;34m=\u001b[0m \u001b[0mstrategy_chain\u001b[0m\u001b[0;34m.\u001b[0m\u001b[0mrun\u001b[0m\u001b[0;34m(\u001b[0m\u001b[0mi\u001b[0m\u001b[0;34m,\u001b[0m \u001b[0mtemperature\u001b[0m\u001b[0;34m)\u001b[0m\u001b[0;34m\u001b[0m\u001b[0;34m\u001b[0m\u001b[0m\n\u001b[0m\u001b[1;32m    666\u001b[0m             \u001b[0;32mif\u001b[0m \u001b[0mval\u001b[0m \u001b[0;32mis\u001b[0m \u001b[0;32mnot\u001b[0m \u001b[0;32mNone\u001b[0m\u001b[0;34m:\u001b[0m\u001b[0;34m\u001b[0m\u001b[0;34m\u001b[0m\u001b[0m\n\u001b[1;32m    667\u001b[0m                 \u001b[0mmessage\u001b[0m\u001b[0;34m.\u001b[0m\u001b[0mappend\u001b[0m\u001b[0;34m(\u001b[0m\u001b[0mval\u001b[0m\u001b[0;34m)\u001b[0m\u001b[0;34m\u001b[0m\u001b[0;34m\u001b[0m\u001b[0m\n",
      "\u001b[0;32m~/.local/lib/python3.6/site-packages/scipy/optimize/_dual_annealing.py\u001b[0m in \u001b[0;36mrun\u001b[0;34m(self, step, temperature)\u001b[0m\n\u001b[1;32m    289\u001b[0m                 self.energy_state.current_location, j, temperature)\n\u001b[1;32m    290\u001b[0m             \u001b[0;31m# Calling the objective function\u001b[0m\u001b[0;34m\u001b[0m\u001b[0;34m\u001b[0m\u001b[0;34m\u001b[0m\u001b[0m\n\u001b[0;32m--> 291\u001b[0;31m             \u001b[0me\u001b[0m \u001b[0;34m=\u001b[0m \u001b[0mself\u001b[0m\u001b[0;34m.\u001b[0m\u001b[0mfunc_wrapper\u001b[0m\u001b[0;34m.\u001b[0m\u001b[0mfun\u001b[0m\u001b[0;34m(\u001b[0m\u001b[0mx_visit\u001b[0m\u001b[0;34m)\u001b[0m\u001b[0;34m\u001b[0m\u001b[0;34m\u001b[0m\u001b[0m\n\u001b[0m\u001b[1;32m    292\u001b[0m             \u001b[0;32mif\u001b[0m \u001b[0me\u001b[0m \u001b[0;34m<\u001b[0m \u001b[0mself\u001b[0m\u001b[0;34m.\u001b[0m\u001b[0menergy_state\u001b[0m\u001b[0;34m.\u001b[0m\u001b[0mcurrent_energy\u001b[0m\u001b[0;34m:\u001b[0m\u001b[0;34m\u001b[0m\u001b[0;34m\u001b[0m\u001b[0m\n\u001b[1;32m    293\u001b[0m                 \u001b[0;31m# We have got a better energy value\u001b[0m\u001b[0;34m\u001b[0m\u001b[0;34m\u001b[0m\u001b[0;34m\u001b[0m\u001b[0m\n",
      "\u001b[0;32m~/.local/lib/python3.6/site-packages/scipy/optimize/_dual_annealing.py\u001b[0m in \u001b[0;36mfun\u001b[0;34m(self, x)\u001b[0m\n\u001b[1;32m    372\u001b[0m     \u001b[0;32mdef\u001b[0m \u001b[0mfun\u001b[0m\u001b[0;34m(\u001b[0m\u001b[0mself\u001b[0m\u001b[0;34m,\u001b[0m \u001b[0mx\u001b[0m\u001b[0;34m)\u001b[0m\u001b[0;34m:\u001b[0m\u001b[0;34m\u001b[0m\u001b[0;34m\u001b[0m\u001b[0m\n\u001b[1;32m    373\u001b[0m         \u001b[0mself\u001b[0m\u001b[0;34m.\u001b[0m\u001b[0mnfev\u001b[0m \u001b[0;34m+=\u001b[0m \u001b[0;36m1\u001b[0m\u001b[0;34m\u001b[0m\u001b[0;34m\u001b[0m\u001b[0m\n\u001b[0;32m--> 374\u001b[0;31m         \u001b[0;32mreturn\u001b[0m \u001b[0mself\u001b[0m\u001b[0;34m.\u001b[0m\u001b[0mfunc\u001b[0m\u001b[0;34m(\u001b[0m\u001b[0mx\u001b[0m\u001b[0;34m,\u001b[0m \u001b[0;34m*\u001b[0m\u001b[0mself\u001b[0m\u001b[0;34m.\u001b[0m\u001b[0margs\u001b[0m\u001b[0;34m)\u001b[0m\u001b[0;34m\u001b[0m\u001b[0;34m\u001b[0m\u001b[0m\n\u001b[0m\u001b[1;32m    375\u001b[0m \u001b[0;34m\u001b[0m\u001b[0m\n\u001b[1;32m    376\u001b[0m \u001b[0;34m\u001b[0m\u001b[0m\n",
      "\u001b[0;32m<ipython-input-2-6282978a6323>\u001b[0m in \u001b[0;36msuc1\u001b[0;34m(beta)\u001b[0m\n\u001b[1;32m     80\u001b[0m         \u001b[0;32mfor\u001b[0m \u001b[0mindp\u001b[0m\u001b[0;34m,\u001b[0m \u001b[0mpr\u001b[0m \u001b[0;32min\u001b[0m \u001b[0menumerate\u001b[0m\u001b[0;34m(\u001b[0m\u001b[0mpriors\u001b[0m\u001b[0;34m)\u001b[0m\u001b[0;34m:\u001b[0m\u001b[0;34m\u001b[0m\u001b[0;34m\u001b[0m\u001b[0m\n\u001b[1;32m     81\u001b[0m             \u001b[0;32mdef\u001b[0m \u001b[0msuc1\u001b[0m\u001b[0;34m(\u001b[0m\u001b[0mbeta\u001b[0m\u001b[0;34m)\u001b[0m\u001b[0;34m:\u001b[0m\u001b[0;34m\u001b[0m\u001b[0;34m\u001b[0m\u001b[0m\n\u001b[0;32m---> 82\u001b[0;31m                 \u001b[0;32mreturn\u001b[0m \u001b[0msuc\u001b[0m\u001b[0;34m.\u001b[0m\u001b[0mJ_intermmediate\u001b[0m\u001b[0;34m(\u001b[0m\u001b[0mpr\u001b[0m\u001b[0;34m,\u001b[0m \u001b[0mbeta\u001b[0m\u001b[0;34m[\u001b[0m\u001b[0;36m0\u001b[0m\u001b[0;34m]\u001b[0m\u001b[0;34m,\u001b[0m \u001b[0meff_amplitude\u001b[0m\u001b[0;34m,\u001b[0m \u001b[0mmod\u001b[0m\u001b[0;34m)\u001b[0m\u001b[0;34m\u001b[0m\u001b[0;34m\u001b[0m\u001b[0m\n\u001b[0m\u001b[1;32m     83\u001b[0m             \u001b[0mf\u001b[0m\u001b[0;34m=\u001b[0m\u001b[0moptimize\u001b[0m\u001b[0;34m.\u001b[0m\u001b[0mdual_annealing\u001b[0m\u001b[0;34m(\u001b[0m\u001b[0msuc1\u001b[0m\u001b[0;34m,\u001b[0m \u001b[0;34m[\u001b[0m\u001b[0;34m(\u001b[0m\u001b[0;34m-\u001b[0m\u001b[0;36m1\u001b[0m\u001b[0;34m,\u001b[0m\u001b[0;36m1\u001b[0m\u001b[0;34m)\u001b[0m\u001b[0;34m]\u001b[0m\u001b[0;34m,\u001b[0m \u001b[0mmaxiter\u001b[0m\u001b[0;34m=\u001b[0m\u001b[0;36m200\u001b[0m\u001b[0;34m,\u001b[0m\u001b[0mno_local_search\u001b[0m\u001b[0;34m=\u001b[0m\u001b[0;32mTrue\u001b[0m \u001b[0;34m)\u001b[0m\u001b[0;34m\u001b[0m\u001b[0;34m\u001b[0m\u001b[0m\n\u001b[1;32m     84\u001b[0m             \u001b[0mobjective_functions\u001b[0m\u001b[0;34m[\u001b[0m\u001b[0mlayer\u001b[0m\u001b[0;34m,\u001b[0m\u001b[0mindp\u001b[0m\u001b[0;34m]\u001b[0m \u001b[0;34m=\u001b[0m \u001b[0;34m-\u001b[0m\u001b[0mf\u001b[0m\u001b[0;34m.\u001b[0m\u001b[0mfun\u001b[0m\u001b[0;34m\u001b[0m\u001b[0;34m\u001b[0m\u001b[0m\n",
      "\u001b[0;32m<ipython-input-2-6282978a6323>\u001b[0m in \u001b[0;36mJ_intermmediate\u001b[0;34m(self, prior_plus, beta, amplitude, next_J_interpolation)\u001b[0m\n\u001b[1;32m     51\u001b[0m         \u001b[0;32mfor\u001b[0m \u001b[0moutcome\u001b[0m \u001b[0;32min\u001b[0m \u001b[0;34m[\u001b[0m\u001b[0;36m0\u001b[0m\u001b[0;34m,\u001b[0m \u001b[0;36m1\u001b[0m\u001b[0;34m]\u001b[0m\u001b[0;34m:\u001b[0m\u001b[0;34m\u001b[0m\u001b[0;34m\u001b[0m\u001b[0m\n\u001b[1;32m     52\u001b[0m             \u001b[0mpostirior_plus\u001b[0m \u001b[0;34m=\u001b[0m \u001b[0mself\u001b[0m\u001b[0;34m.\u001b[0m\u001b[0mpostirior_probability\u001b[0m\u001b[0;34m(\u001b[0m\u001b[0moutcome\u001b[0m\u001b[0;34m,\u001b[0m \u001b[0mprior_plus\u001b[0m\u001b[0;34m,\u001b[0m \u001b[0mbeta\u001b[0m\u001b[0;34m,\u001b[0m \u001b[0mamplitude\u001b[0m\u001b[0;34m)\u001b[0m\u001b[0;34m\u001b[0m\u001b[0;34m\u001b[0m\u001b[0m\n\u001b[0;32m---> 53\u001b[0;31m             \u001b[0mobjective_function\u001b[0m \u001b[0;34m+=\u001b[0m \u001b[0mnext_J_interpolation\u001b[0m\u001b[0;34m(\u001b[0m\u001b[0mpostirior_plus\u001b[0m\u001b[0;34m)\u001b[0m\u001b[0;34m*\u001b[0m\u001b[0mself\u001b[0m\u001b[0;34m.\u001b[0m\u001b[0moutcome_probability\u001b[0m\u001b[0;34m(\u001b[0m\u001b[0moutcome\u001b[0m\u001b[0;34m,\u001b[0m \u001b[0mprior_plus\u001b[0m\u001b[0;34m,\u001b[0m \u001b[0mbeta\u001b[0m\u001b[0;34m,\u001b[0m \u001b[0mamplitude\u001b[0m\u001b[0;34m)\u001b[0m\u001b[0;34m\u001b[0m\u001b[0;34m\u001b[0m\u001b[0m\n\u001b[0m\u001b[1;32m     54\u001b[0m         \u001b[0;32mreturn\u001b[0m \u001b[0;34m-\u001b[0m\u001b[0mobjective_function\u001b[0m\u001b[0;34m\u001b[0m\u001b[0;34m\u001b[0m\u001b[0m\n\u001b[1;32m     55\u001b[0m \u001b[0;34m\u001b[0m\u001b[0m\n",
      "\u001b[0;32m<ipython-input-2-6282978a6323>\u001b[0m in \u001b[0;36m__call__\u001b[0;34m(self, unseen_point)\u001b[0m\n\u001b[1;32m      6\u001b[0m             \u001b[0;32mreturn\u001b[0m \u001b[0mself\u001b[0m\u001b[0;34m.\u001b[0m\u001b[0mmodel\u001b[0m\u001b[0;34m(\u001b[0m\u001b[0;36m1\u001b[0m\u001b[0;34m-\u001b[0m\u001b[0munseen_point\u001b[0m\u001b[0;34m)\u001b[0m\u001b[0;34m\u001b[0m\u001b[0;34m\u001b[0m\u001b[0m\n\u001b[1;32m      7\u001b[0m         \u001b[0;32melse\u001b[0m\u001b[0;34m:\u001b[0m\u001b[0;34m\u001b[0m\u001b[0;34m\u001b[0m\u001b[0m\n\u001b[0;32m----> 8\u001b[0;31m             \u001b[0;32mreturn\u001b[0m \u001b[0mself\u001b[0m\u001b[0;34m.\u001b[0m\u001b[0mmodel\u001b[0m\u001b[0;34m(\u001b[0m\u001b[0munseen_point\u001b[0m\u001b[0;34m)\u001b[0m\u001b[0;34m\u001b[0m\u001b[0;34m\u001b[0m\u001b[0m\n\u001b[0m\u001b[1;32m      9\u001b[0m \u001b[0;34m\u001b[0m\u001b[0m\n\u001b[1;32m     10\u001b[0m \u001b[0;32mclass\u001b[0m \u001b[0mRewardModel\u001b[0m\u001b[0;34m(\u001b[0m\u001b[0;34m)\u001b[0m\u001b[0;34m:\u001b[0m\u001b[0;34m\u001b[0m\u001b[0;34m\u001b[0m\u001b[0m\n",
      "\u001b[0;32m~/.local/lib/python3.6/site-packages/scipy/interpolate/polyint.py\u001b[0m in \u001b[0;36m__call__\u001b[0;34m(self, x)\u001b[0m\n\u001b[1;32m     77\u001b[0m         \"\"\"\n\u001b[1;32m     78\u001b[0m         \u001b[0mx\u001b[0m\u001b[0;34m,\u001b[0m \u001b[0mx_shape\u001b[0m \u001b[0;34m=\u001b[0m \u001b[0mself\u001b[0m\u001b[0;34m.\u001b[0m\u001b[0m_prepare_x\u001b[0m\u001b[0;34m(\u001b[0m\u001b[0mx\u001b[0m\u001b[0;34m)\u001b[0m\u001b[0;34m\u001b[0m\u001b[0;34m\u001b[0m\u001b[0m\n\u001b[0;32m---> 79\u001b[0;31m         \u001b[0my\u001b[0m \u001b[0;34m=\u001b[0m \u001b[0mself\u001b[0m\u001b[0;34m.\u001b[0m\u001b[0m_evaluate\u001b[0m\u001b[0;34m(\u001b[0m\u001b[0mx\u001b[0m\u001b[0;34m)\u001b[0m\u001b[0;34m\u001b[0m\u001b[0;34m\u001b[0m\u001b[0m\n\u001b[0m\u001b[1;32m     80\u001b[0m         \u001b[0;32mreturn\u001b[0m \u001b[0mself\u001b[0m\u001b[0;34m.\u001b[0m\u001b[0m_finish_y\u001b[0m\u001b[0;34m(\u001b[0m\u001b[0my\u001b[0m\u001b[0;34m,\u001b[0m \u001b[0mx_shape\u001b[0m\u001b[0;34m)\u001b[0m\u001b[0;34m\u001b[0m\u001b[0;34m\u001b[0m\u001b[0m\n\u001b[1;32m     81\u001b[0m \u001b[0;34m\u001b[0m\u001b[0m\n",
      "\u001b[0;32m~/.local/lib/python3.6/site-packages/scipy/interpolate/interpolate.py\u001b[0m in \u001b[0;36m_evaluate\u001b[0;34m(self, x_new)\u001b[0m\n\u001b[1;32m    661\u001b[0m         \u001b[0my_new\u001b[0m \u001b[0;34m=\u001b[0m \u001b[0mself\u001b[0m\u001b[0;34m.\u001b[0m\u001b[0m_call\u001b[0m\u001b[0;34m(\u001b[0m\u001b[0mself\u001b[0m\u001b[0;34m,\u001b[0m \u001b[0mx_new\u001b[0m\u001b[0;34m)\u001b[0m\u001b[0;34m\u001b[0m\u001b[0;34m\u001b[0m\u001b[0m\n\u001b[1;32m    662\u001b[0m         \u001b[0;32mif\u001b[0m \u001b[0;32mnot\u001b[0m \u001b[0mself\u001b[0m\u001b[0;34m.\u001b[0m\u001b[0m_extrapolate\u001b[0m\u001b[0;34m:\u001b[0m\u001b[0;34m\u001b[0m\u001b[0;34m\u001b[0m\u001b[0m\n\u001b[0;32m--> 663\u001b[0;31m             \u001b[0mbelow_bounds\u001b[0m\u001b[0;34m,\u001b[0m \u001b[0mabove_bounds\u001b[0m \u001b[0;34m=\u001b[0m \u001b[0mself\u001b[0m\u001b[0;34m.\u001b[0m\u001b[0m_check_bounds\u001b[0m\u001b[0;34m(\u001b[0m\u001b[0mx_new\u001b[0m\u001b[0;34m)\u001b[0m\u001b[0;34m\u001b[0m\u001b[0;34m\u001b[0m\u001b[0m\n\u001b[0m\u001b[1;32m    664\u001b[0m             \u001b[0;32mif\u001b[0m \u001b[0mlen\u001b[0m\u001b[0;34m(\u001b[0m\u001b[0my_new\u001b[0m\u001b[0;34m)\u001b[0m \u001b[0;34m>\u001b[0m \u001b[0;36m0\u001b[0m\u001b[0;34m:\u001b[0m\u001b[0;34m\u001b[0m\u001b[0;34m\u001b[0m\u001b[0m\n\u001b[1;32m    665\u001b[0m                 \u001b[0;31m# Note fill_value must be broadcast up to the proper size\u001b[0m\u001b[0;34m\u001b[0m\u001b[0;34m\u001b[0m\u001b[0;34m\u001b[0m\u001b[0m\n",
      "\u001b[0;32m~/.local/lib/python3.6/site-packages/scipy/interpolate/interpolate.py\u001b[0m in \u001b[0;36m_check_bounds\u001b[0;34m(self, x_new)\u001b[0m\n\u001b[1;32m    692\u001b[0m             raise ValueError(\"A value in x_new is below the interpolation \"\n\u001b[1;32m    693\u001b[0m                              \"range.\")\n\u001b[0;32m--> 694\u001b[0;31m         \u001b[0;32mif\u001b[0m \u001b[0mself\u001b[0m\u001b[0;34m.\u001b[0m\u001b[0mbounds_error\u001b[0m \u001b[0;32mand\u001b[0m \u001b[0mabove_bounds\u001b[0m\u001b[0;34m.\u001b[0m\u001b[0many\u001b[0m\u001b[0;34m(\u001b[0m\u001b[0;34m)\u001b[0m\u001b[0;34m:\u001b[0m\u001b[0;34m\u001b[0m\u001b[0;34m\u001b[0m\u001b[0m\n\u001b[0m\u001b[1;32m    695\u001b[0m             raise ValueError(\"A value in x_new is above the interpolation \"\n\u001b[1;32m    696\u001b[0m                              \"range.\")\n",
      "\u001b[0;32m~/.local/lib/python3.6/site-packages/numpy/core/_methods.py\u001b[0m in \u001b[0;36m_any\u001b[0;34m(a, axis, dtype, out, keepdims)\u001b[0m\n\u001b[1;32m     52\u001b[0m \u001b[0;34m\u001b[0m\u001b[0m\n\u001b[1;32m     53\u001b[0m \u001b[0;32mdef\u001b[0m \u001b[0m_any\u001b[0m\u001b[0;34m(\u001b[0m\u001b[0ma\u001b[0m\u001b[0;34m,\u001b[0m \u001b[0maxis\u001b[0m\u001b[0;34m=\u001b[0m\u001b[0;32mNone\u001b[0m\u001b[0;34m,\u001b[0m \u001b[0mdtype\u001b[0m\u001b[0;34m=\u001b[0m\u001b[0;32mNone\u001b[0m\u001b[0;34m,\u001b[0m \u001b[0mout\u001b[0m\u001b[0;34m=\u001b[0m\u001b[0;32mNone\u001b[0m\u001b[0;34m,\u001b[0m \u001b[0mkeepdims\u001b[0m\u001b[0;34m=\u001b[0m\u001b[0;32mFalse\u001b[0m\u001b[0;34m)\u001b[0m\u001b[0;34m:\u001b[0m\u001b[0;34m\u001b[0m\u001b[0;34m\u001b[0m\u001b[0m\n\u001b[0;32m---> 54\u001b[0;31m     \u001b[0;32mreturn\u001b[0m \u001b[0mumr_any\u001b[0m\u001b[0;34m(\u001b[0m\u001b[0ma\u001b[0m\u001b[0;34m,\u001b[0m \u001b[0maxis\u001b[0m\u001b[0;34m,\u001b[0m \u001b[0mdtype\u001b[0m\u001b[0;34m,\u001b[0m \u001b[0mout\u001b[0m\u001b[0;34m,\u001b[0m \u001b[0mkeepdims\u001b[0m\u001b[0;34m)\u001b[0m\u001b[0;34m\u001b[0m\u001b[0;34m\u001b[0m\u001b[0m\n\u001b[0m\u001b[1;32m     55\u001b[0m \u001b[0;34m\u001b[0m\u001b[0m\n\u001b[1;32m     56\u001b[0m \u001b[0;32mdef\u001b[0m \u001b[0m_all\u001b[0m\u001b[0;34m(\u001b[0m\u001b[0ma\u001b[0m\u001b[0;34m,\u001b[0m \u001b[0maxis\u001b[0m\u001b[0;34m=\u001b[0m\u001b[0;32mNone\u001b[0m\u001b[0;34m,\u001b[0m \u001b[0mdtype\u001b[0m\u001b[0;34m=\u001b[0m\u001b[0;32mNone\u001b[0m\u001b[0;34m,\u001b[0m \u001b[0mout\u001b[0m\u001b[0;34m=\u001b[0m\u001b[0;32mNone\u001b[0m\u001b[0;34m,\u001b[0m \u001b[0mkeepdims\u001b[0m\u001b[0;34m=\u001b[0m\u001b[0;32mFalse\u001b[0m\u001b[0;34m)\u001b[0m\u001b[0;34m:\u001b[0m\u001b[0;34m\u001b[0m\u001b[0;34m\u001b[0m\u001b[0m\n",
      "\u001b[0;31mKeyboardInterrupt\u001b[0m: "
     ]
    }
   ],
   "source": [
    "\n",
    "\n",
    "class InterpolationModel:\n",
    "    def __init__(self, priors, labels):\n",
    "        self.model = interp1d(priors, labels)\n",
    "    def __call__(self, unseen_point):\n",
    "        if unseen_point < .5:\n",
    "            return self.model(1-unseen_point)\n",
    "        else:\n",
    "            return self.model(unseen_point)\n",
    "\n",
    "class RewardModel():\n",
    "    def __init__(self):\n",
    "        pass\n",
    "    def R_function(self,postirior_plus):\n",
    "        reward = np.max([postirior_plus, 1-postirior_plus])\n",
    "        return reward\n",
    "    def __call__(self,postiriors):\n",
    "        return self.R_function(postiriors)\n",
    "\n",
    "\n",
    "\n",
    "class SuccessProbability():\n",
    "    def __init__(self, n_phases=2,amplitude=0.4, prob_ep=0.5, ep=1):\n",
    "        self.n_phases = n_phases\n",
    "        self.amplitude = amplitude\n",
    "        self.possible_phases = np.array([-1.,1.])\n",
    "        self.ep=ep\n",
    "        self.prob_ep = prob_ep\n",
    "        \n",
    "    def NProb(self,outcome, amp,beta):\n",
    "        p0=0\n",
    "        for pep, ep in zip([self.prob_ep, 1-self.prob_ep],[self.ep, 1]):\n",
    "            p0+= pep*np.exp(-abs(complex(np.sqrt(ep)*amp)+complex(beta))**2)\n",
    "        if outcome == 0.:\n",
    "            return p0\n",
    "        else:\n",
    "            return 1-p0\n",
    "\n",
    "    def outcome_probability(self,outcome,prior_plus,beta,amp):\n",
    "        prs = [prior_plus, 1-prior_plus]\n",
    "        p=0\n",
    "        for phase,pr in zip([1,-1], prs):\n",
    "            p+= pr*self.NProb(outcome,phase*amp,beta)\n",
    "        return p\n",
    "\n",
    "    def postirior_probability(self,outcome, prior_plus, beta, amp):\n",
    "        prob_ot = self.outcome_probability(outcome, prior_plus, beta, amp)\n",
    "        return prior_plus*self.NProb(outcome, amp,beta)/prob_ot\n",
    "\n",
    "    def J_intermmediate(self, prior_plus, beta, amplitude,next_J_interpolation):\n",
    "        objective_function = 0\n",
    "        for outcome in [0, 1]:\n",
    "            postirior_plus = self.postirior_probability(outcome, prior_plus, beta, amplitude)\n",
    "            objective_function += next_J_interpolation(postirior_plus)*self.outcome_probability(outcome, prior_plus, beta, amplitude)\n",
    "        return -objective_function\n",
    "\n",
    "for number_photodetectors in range(36,50):\n",
    "\n",
    "    amplitude = .4\n",
    "    ep=0.01\n",
    "    suc = SuccessProbability(amplitude=amplitude/np.sqrt(number_photodetectors), prob_ep=.5, ep=ep)\n",
    "\n",
    "    Npriors = 100\n",
    "    priors = np.linspace(.5,1,Npriors)\n",
    "\n",
    "    objective_functions = np.zeros((number_photodetectors+1,len(priors)))\n",
    "    displacements = np.zeros((number_photodetectors,len(priors)))\n",
    "\n",
    "\n",
    "    ### last layer ###\n",
    "    modelito = RewardModel()\n",
    "    for indp, pr in enumerate(priors):\n",
    "        objective_functions[number_photodetectors, indp] = modelito(pr)\n",
    "\n",
    "    for layer in tqdm(range(number_photodetectors)[::-1]):\n",
    "        if layer == number_photodetectors-1:\n",
    "            eff_amplitude=amplitude/np.sqrt(number_photodetectors)\n",
    "        else:\n",
    "            eff_amplitude = amplitude/np.sqrt(number_photodetectors)\n",
    "        mod = InterpolationModel(priors,objective_functions[layer+1])\n",
    "        for indp, pr in enumerate(priors):\n",
    "            def suc1(beta):\n",
    "                return suc.J_intermmediate(pr, beta[0], eff_amplitude, mod)\n",
    "            f=optimize.dual_annealing(suc1, [(-1,1)], maxiter=200,no_local_search=True )\n",
    "            objective_functions[layer,indp] = -f.fun\n",
    "            displacements[layer,indp] = f.x[0]\n",
    "            \n",
    "    os.makedirs(\"resultsdp/{}/\".format(ep),exist_ok=True)\n",
    "    np.save(\"resultsdp/{}/{}L_objective_function\".format(ep,number_photodetectors), objective_functions )\n",
    "    np.save(\"resultsdp/{}/{}L_displacements\".format(ep,number_photodetectors), objective_functions )    "
   ]
  },
  {
   "cell_type": "code",
   "execution_count": null,
   "id": "traditional-cleveland",
   "metadata": {},
   "outputs": [],
   "source": []
  },
  {
   "cell_type": "code",
   "execution_count": null,
   "id": "nervous-pattern",
   "metadata": {},
   "outputs": [],
   "source": []
  },
  {
   "cell_type": "code",
   "execution_count": 6,
   "id": "dressed-compromise",
   "metadata": {},
   "outputs": [],
   "source": [
    "value=[]\n",
    "for number_photodetectors in range(1,50):\n",
    "    objfun = np.load(\"resultsdp/{}/{}L_objective_function.npy\".format(ep,number_photodetectors))\n",
    "    value.append(objfun[0,0])"
   ]
  },
  {
   "cell_type": "code",
   "execution_count": 72,
   "id": "sought-consumption",
   "metadata": {},
   "outputs": [],
   "source": [
    "def homodyne(a=0.4, ep=0.01):\n",
    "    beta = np.sqrt(ep)*a\n",
    "    p_err =  (1- erf(np.sqrt(2)*a) + 1 - erf(np.sqrt(2)*beta))/4\n",
    "    return 1-p_err\n"
   ]
  },
  {
   "cell_type": "code",
   "execution_count": 73,
   "id": "western-quarterly",
   "metadata": {},
   "outputs": [
    {
     "data": {
      "text/plain": [
       "0.6600129867152953"
      ]
     },
     "execution_count": 73,
     "metadata": {},
     "output_type": "execute_result"
    }
   ],
   "source": [
    "homodyne()"
   ]
  },
  {
   "cell_type": "code",
   "execution_count": null,
   "id": "appropriate-reasoning",
   "metadata": {},
   "outputs": [],
   "source": []
  },
  {
   "cell_type": "code",
   "execution_count": 75,
   "id": "amazing-wyoming",
   "metadata": {},
   "outputs": [
    {
     "data": {
      "image/png": "[encoded data removed]",
      "text/plain": [
       "<Figure size 720x720 with 1 Axes>"
      ]
     },
     "metadata": {},
     "output_type": "display_data"
    }
   ],
   "source": [
    "from helstrom import Helstrom\n",
    "from math import erf\n",
    "\n",
    "hel = Helstrom(alpha=0.4, ep = 0.01)\n",
    "helstrom_avg = hel()\n",
    "\n",
    "\n",
    "plt.xkcd(False)\n",
    "plt.figure(figsize=(10,10))\n",
    "plt.scatter(range(len(value)),value,alpha=0.8,color=\"black\",s=200, label=\"$P^{*}_{s}(L)$\")\n",
    "ticks=[1, 10, 20, 30, 40, 50]\n",
    "plt.xticks(ticks,[str(t) for t in ticks],size=10)\n",
    "plt.xlabel(\"Number of photodetectors\",size=20)\n",
    "plt.yticks(size=20)\n",
    "plt.plot(range(len(value)), np.ones(len(value))*homodyne(0.4,ep=0.01), linewidth=5, color=\"green\",alpha=0.4, label=\"Homodyne\")\n",
    "plt.plot(range(len(value)), np.ones(len(value))*0.69, color=\"black\", linewidth=5,alpha=0.4, label=\"Helstrom - John\")\n",
    "plt.legend(prop={\"size\":25}, loc=\"best\")\n",
    "plt.savefig(\"problema.png\")\n",
    "#plt.title(r'$\\alpha = 0.4$'+\"\\n\"+r'$\\epsilon = 0.01$', size=30)\n",
    "#plt.savefig(\"figures_iee/comparison_fixed_energy_and_damping.pdf\")"
   ]
  },
  {
   "cell_type": "code",
   "execution_count": 61,
   "id": "other-scientist",
   "metadata": {},
   "outputs": [],
   "source": [
    "def helly(amplitude):\n",
    "    return (1 + np.sqrt(1-np.exp(-4*(amplitude**2))))/2"
   ]
  },
  {
   "cell_type": "code",
   "execution_count": 62,
   "id": "exterior-veteran",
   "metadata": {},
   "outputs": [
    {
     "data": {
      "text/plain": [
       "0.8437686634776909"
      ]
     },
     "execution_count": 62,
     "metadata": {},
     "output_type": "execute_result"
    }
   ],
   "source": [
    "amplitude = 0.4\n",
    "helly(amplitude)"
   ]
  },
  {
   "cell_type": "code",
   "execution_count": 63,
   "id": "beautiful-dating",
   "metadata": {},
   "outputs": [
    {
     "data": {
      "text/plain": [
       "0.7222374638505551"
      ]
     },
     "execution_count": 63,
     "metadata": {},
     "output_type": "execute_result"
    }
   ],
   "source": [
    "hel = Helstrom(alpha=0.4, ep = 0.01)\n",
    "helstrom_avg = hel()\n",
    "helstrom_avg"
   ]
  },
  {
   "cell_type": "code",
   "execution_count": 58,
   "id": "compound-packing",
   "metadata": {},
   "outputs": [
    {
     "data": {
      "text/plain": [
       "0.4"
      ]
     },
     "execution_count": 58,
     "metadata": {},
     "output_type": "execute_result"
    }
   ],
   "source": [
    "hel.alpha"
   ]
  },
  {
   "cell_type": "code",
   "execution_count": null,
   "id": "indian-belief",
   "metadata": {},
   "outputs": [],
   "source": []
  }
 ],
 "metadata": {
  "kernelspec": {
   "display_name": "Python 3",
   "language": "python",
   "name": "python3"
  },
  "language_info": {
   "codemirror_mode": {
    "name": "ipython",
    "version": 3
   },
   "file_extension": ".py",
   "mimetype": "text/x-python",
   "name": "python",
   "nbconvert_exporter": "python",
   "pygments_lexer": "ipython3",
   "version": "3.6.9"
  }
 },
 "nbformat": 4,
 "nbformat_minor": 5
}
