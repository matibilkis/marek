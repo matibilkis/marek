{
 "cells": [
  {
   "cell_type": "code",
   "execution_count": 63,
   "id": "amber-yemen",
   "metadata": {},
   "outputs": [
    {
     "name": "stderr",
     "output_type": "stream",
     "text": [
      "\r",
      "  0%|          | 0/10 [00:00<?, ?it/s]"
     ]
    },
    {
     "name": "stdout",
     "output_type": "stream",
     "text": [
      "The autoreload extension is already loaded. To reload it, use:\n",
      "  %reload_ext autoreload\n"
     ]
    },
    {
     "name": "stderr",
     "output_type": "stream",
     "text": [
      "100%|██████████| 10/10 [00:50<00:00,  5.01s/it]\n"
     ]
    }
   ],
   "source": [
    "%load_ext autoreload\n",
    "%autoreload 2\n",
    "\n",
    "import numpy as np\n",
    "import matplotlib.pyplot as plt\n",
    "from scipy.interpolate import interp1d\n",
    "from scipy import optimize\n",
    "from tqdm import tqdm\n",
    "import os \n",
    "\n",
    "class InterpolationModel:\n",
    "    def __init__(self, priors, labels):\n",
    "        self.model = interp1d(priors, labels)\n",
    "    def __call__(self, unseen_point):\n",
    "        if unseen_point < .5:\n",
    "            return self.model(1-unseen_point)\n",
    "        else:\n",
    "            return self.model(unseen_point)\n",
    "\n",
    "class RewardModel():\n",
    "    def __init__(self):\n",
    "        pass\n",
    "    def R_function(self,postirior_plus):\n",
    "        reward = np.max([postirior_plus, 1-postirior_plus])\n",
    "        return reward\n",
    "    def __call__(self,postiriors):\n",
    "        return self.R_function(postiriors)\n",
    "\n",
    "\n",
    "\n",
    "class SuccessProbability():\n",
    "    def __init__(self, n_phases=2,amplitude=0.4):\n",
    "        self.n_phases = n_phases\n",
    "        self.amplitude = amplitude\n",
    "        self.possible_phases = np.array([-1.,1.])\n",
    "\n",
    "    def NProb(self,outcome, amp,beta):\n",
    "        p0=np.exp(-abs(complex(amp)+complex(beta))**2)\n",
    "        if outcome == 0.:\n",
    "            return p0\n",
    "        else:\n",
    "            return 1-p0\n",
    "\n",
    "    def outcome_probability(self,outcome,prior_plus,beta,amp):\n",
    "        prs = [prior_plus, 1-prior_plus]\n",
    "        p=0\n",
    "        for phase,pr in zip([1,-1], prs):\n",
    "            p+= pr*self.NProb(outcome,phase*amp,beta)\n",
    "        return p\n",
    "\n",
    "    def postirior_probability(self,outcome, prior_plus, beta, amp):\n",
    "        prob_ot = self.outcome_probability(outcome, prior_plus, beta, amp)\n",
    "        return prior_plus*self.NProb(outcome, amp,beta)/prob_ot\n",
    "\n",
    "    def J_intermmediate(self, prior_plus, beta, amplitude,next_J_interpolation):\n",
    "        objective_function = 0\n",
    "        for outcome in [0, 1]:\n",
    "            postirior_plus = self.postirior_probability(outcome, prior_plus, beta, amplitude)\n",
    "            objective_function += next_J_interpolation(postirior_plus)*self.outcome_probability(outcome, prior_plus, beta, amplitude)\n",
    "        return -objective_function\n",
    "\n",
    "for ep in [1]:\n",
    "\n",
    "    amplitude = 0.4*np.sqrt(ep)\n",
    "    suc = SuccessProbability(amplitude=amplitude/np.sqrt(number_photodetectors))\n",
    "    \n",
    "    number_photodetectors = 10\n",
    "    Npriors = 100\n",
    "    priors = np.linspace(.5,1,Npriors)\n",
    "\n",
    "    objective_functions = np.zeros((number_photodetectors+1,len(priors)))\n",
    "    displacements = np.zeros((number_photodetectors,len(priors)))\n",
    "\n",
    "\n",
    "    ### last layer ###\n",
    "    modelito = RewardModel()\n",
    "    for indp, pr in enumerate(priors):\n",
    "        objective_functions[number_photodetectors, indp] = modelito(pr)\n",
    "\n",
    "    for layer in tqdm(range(number_photodetectors)[::-1]):\n",
    "        if layer == number_photodetectors-1:\n",
    "            eff_amplitude=amplitude\n",
    "        else:\n",
    "            eff_amplitude = amplitude/np.sqrt(number_photodetectors)\n",
    "        mod = InterpolationModel(priors,objective_functions[layer+1])\n",
    "        for indp, pr in enumerate(priors):\n",
    "            def suc1(beta):\n",
    "                return suc.J_intermmediate(pr, beta[0], eff_amplitude, mod)\n",
    "            f=optimize.dual_annealing(suc1, [(-1,1)], maxiter=200,no_local_search=True )\n",
    "            objective_functions[layer,indp] = -f.fun\n",
    "            displacements[layer,indp] = f.x[0]\n",
    "            \n",
    "    os.makedirs(\"resultsdp/{}/\".format(ep),exist_ok=True)\n",
    "    np.save(\"resultsdp/{}/objective_function\".format(ep), objective_functions )\n",
    "    np.save(\"resultsdp/{}/displacements\".format(ep), objective_functions )    "
   ]
  },
  {
   "cell_type": "code",
   "execution_count": 66,
   "id": "downtown-exemption",
   "metadata": {},
   "outputs": [
    {
     "data": {
      "text/plain": [
       "[<matplotlib.lines.Line2D at 0x7f785e984d30>]"
      ]
     },
     "execution_count": 66,
     "metadata": {},
     "output_type": "execute_result"
    },
    {
     "data": {
      "image/png": "[encoded data removed]",
      "text/plain": [
       "<Figure size 432x288 with 1 Axes>"
      ]
     },
     "metadata": {
      "needs_background": "light"
     },
     "output_type": "display_data"
    }
   ],
   "source": [
    "plt.plot(objective_functions[0])"
   ]
  },
  {
   "cell_type": "code",
   "execution_count": null,
   "id": "parliamentary-identification",
   "metadata": {},
   "outputs": [],
   "source": []
  },
  {
   "cell_type": "code",
   "execution_count": null,
   "id": "fleet-class",
   "metadata": {},
   "outputs": [],
   "source": []
  },
  {
   "cell_type": "code",
   "execution_count": 56,
   "id": "scenic-stewart",
   "metadata": {},
   "outputs": [
    {
     "name": "stderr",
     "output_type": "stream",
     "text": [
      "\r",
      "  0%|          | 0/2 [00:00<?, ?it/s]"
     ]
    },
    {
     "name": "stdout",
     "output_type": "stream",
     "text": [
      "The autoreload extension is already loaded. To reload it, use:\n",
      "  %reload_ext autoreload\n"
     ]
    },
    {
     "name": "stderr",
     "output_type": "stream",
     "text": [
      "100%|██████████| 2/2 [00:03<00:00,  1.72s/it]\n"
     ]
    }
   ],
   "source": [
    "%load_ext autoreload\n",
    "%autoreload 2\n",
    "\n",
    "import numpy as np\n",
    "import matplotlib.pyplot as plt\n",
    "from scipy.interpolate import interp1d\n",
    "from scipy import optimize\n",
    "from tqdm import tqdm\n",
    "import os \n",
    "\n",
    "class InterpolationModel:\n",
    "    def __init__(self, priors, labels):\n",
    "        self.model = interp1d(priors, labels)\n",
    "    def __call__(self, unseen_point):\n",
    "        if unseen_point < .5:\n",
    "            return self.model(1-unseen_point)\n",
    "        else:\n",
    "            return self.model(unseen_point)\n",
    "\n",
    "class RewardModel():\n",
    "    def __init__(self):\n",
    "        pass\n",
    "    def R_function(self,postirior_plus):\n",
    "        reward = np.max([postirior_plus, 1-postirior_plus])\n",
    "        return reward\n",
    "    def __call__(self,postiriors):\n",
    "        return self.R_function(postiriors)\n",
    "\n",
    "\n",
    "\n",
    "class SuccessProbability():\n",
    "    def __init__(self, n_phases=2,amplitude=0.4, ep=1, prob_ep=.5):\n",
    "        self.n_phases = n_phases\n",
    "        self.amplitude = amplitude\n",
    "        self.possible_phases = np.array([-1.,1.])\n",
    "        self.ep=ep\n",
    "        self.prob_ep = prob_ep\n",
    "        \n",
    "    def NProb(self,outcome, amp,beta):\n",
    "        p0=0\n",
    "        for pep, ep in zip([self.prob_ep, 1-self.prob_ep],[self.ep, 1]):\n",
    "            p0+= pep*np.exp(-abs(complex(np.sqrt(ep)*amp)+complex(beta))**2)\n",
    "        if outcome == 0.:\n",
    "            return p0\n",
    "        else:\n",
    "            return 1-p0\n",
    "\n",
    "    def outcome_probability(self,outcome,prior_plus,beta,amp):\n",
    "        prs = [prior_plus, 1-prior_plus]\n",
    "        p=0\n",
    "        for phase,pr in zip([1,-1], prs):\n",
    "            p+= pr*self.NProb(outcome,phase*amp,beta)\n",
    "        return p\n",
    "\n",
    "    def postirior_probability(self,outcome, prior_plus, beta, amp):\n",
    "        prob_ot = self.outcome_probability(outcome, prior_plus, beta, amp)\n",
    "        return prior_plus*self.NProb(outcome, amp,beta)/prob_ot\n",
    "\n",
    "    def J_intermmediate(self, prior_plus, beta, amplitude,next_J_interpolation):\n",
    "        objective_function = 0\n",
    "        for outcome in [0, 1]:\n",
    "            postirior_plus = self.postirior_probability(outcome, prior_plus, beta, amplitude)\n",
    "            objective_function += next_J_interpolation(postirior_plus)*self.outcome_probability(outcome, prior_plus, beta, amplitude)\n",
    "        return -objective_function\n",
    "\n",
    "\n",
    "for ep in [1e-2]:\n",
    "\n",
    "    amplitude = 0.4\n",
    "    suc = SuccessProbability(amplitude=amplitude/np.sqrt(number_photodetectors), ep= ep)\n",
    "    \n",
    "    number_photodetectors = 2\n",
    "    Npriors = 25\n",
    "    priors = np.linspace(.5,1,Npriors)\n",
    "\n",
    "    objective_functions = np.zeros((number_photodetectors+1,len(priors)))\n",
    "    displacements = np.zeros((number_photodetectors,len(priors)))\n",
    "\n",
    "\n",
    "    ### last layer ###\n",
    "    modelito = RewardModel()\n",
    "    for indp, pr in enumerate(priors):\n",
    "        objective_functions[number_photodetectors, indp] = modelito(pr)\n",
    "\n",
    "    for layer in tqdm(range(number_photodetectors)[::-1]):\n",
    "        if layer == number_photodetectors-1:\n",
    "            eff_amplitude=amplitude\n",
    "        else:\n",
    "            eff_amplitude = amplitude/np.sqrt(number_photodetectors)\n",
    "            \n",
    "        mod = InterpolationModel(priors,objective_functions[layer+1])\n",
    "        for indp, pr in enumerate(priors):\n",
    "            def suc1(beta):\n",
    "                return suc.J_intermmediate(pr, beta[0], eff_amplitude, mod)\n",
    "            f=optimize.dual_annealing(suc1, [(-1,1)], maxiter=200,no_local_search=True )\n",
    "            objective_functions[layer,indp] = -f.fun\n",
    "            displacements[layer,indp] = f.x[0]\n",
    "            \n",
    "    os.makedirs(\"resultsdp/{}_avg/\".format(ep),exist_ok=True)\n",
    "    np.save(\"resultsdp/{}_avg/objective_function\".format(ep), objective_functions )\n",
    "    np.save(\"resultsdp/{}_avg/displacements\".format(ep), objective_functions )    "
   ]
  },
  {
   "cell_type": "code",
   "execution_count": 41,
   "id": "weighted-symbol",
   "metadata": {},
   "outputs": [
    {
     "name": "stdout",
     "output_type": "stream",
     "text": [
      "The autoreload extension is already loaded. To reload it, use:\n",
      "  %reload_ext autoreload\n"
     ]
    }
   ],
   "source": [
    "from environment import Environment\n",
    "%load_ext autoreload\n",
    "%autoreload 2\n",
    "\n",
    "\n",
    "env = Environment(amplitude=0.4)\n",
    "helstrom = env.helstrom()"
   ]
  },
  {
   "cell_type": "code",
   "execution_count": 58,
   "id": "similar-people",
   "metadata": {},
   "outputs": [],
   "source": [
    "o_ep = np.load(\"resultsdp/0.01/objective_function.npy\")\n",
    "o_clean = np.load(\"resultsdp/1/objective_function.npy\")\n",
    "o_avg = np.load(\"resultsdp/0.01_avg/objective_function.npy\")"
   ]
  },
  {
   "cell_type": "code",
   "execution_count": 59,
   "id": "encouraging-current",
   "metadata": {},
   "outputs": [],
   "source": [
    "vals = []\n",
    "for g in [o_ep, o_clean,o_avg]:\n",
    "    vals.append(g[0,0])"
   ]
  },
  {
   "cell_type": "code",
   "execution_count": 60,
   "id": "moderate-response",
   "metadata": {},
   "outputs": [
    {
     "data": {
      "text/plain": [
       "[0.5369861833143215, 0.8233844656402347, 0.7157498522990177]"
      ]
     },
     "execution_count": 60,
     "metadata": {},
     "output_type": "execute_result"
    }
   ],
   "source": [
    "vals"
   ]
  },
  {
   "cell_type": "code",
   "execution_count": null,
   "id": "thorough-treasurer",
   "metadata": {},
   "outputs": [],
   "source": []
  }
 ],
 "metadata": {
  "kernelspec": {
   "display_name": "Python 3",
   "language": "python",
   "name": "python3"
  },
  "language_info": {
   "codemirror_mode": {
    "name": "ipython",
    "version": 3
   },
   "file_extension": ".py",
   "mimetype": "text/x-python",
   "name": "python",
   "nbconvert_exporter": "python",
   "pygments_lexer": "ipython3",
   "version": "3.6.9"
  }
 },
 "nbformat": 4,
 "nbformat_minor": 5
}
