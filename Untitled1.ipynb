{
 "cells": [
  {
   "cell_type": "code",
   "execution_count": null,
   "id": "future-spokesman",
   "metadata": {},
   "outputs": [],
   "source": [
    "import numpy as np\n",
    "\n",
    "class Helstrom():\n",
    "    def __init__(self,alpha=0.4, ep=0.01):\n",
    "\n",
    "        self.alpha = alpha\n",
    "        self.beta = np.sqrt(ep)*alpha\n",
    "\n",
    "\n",
    "    def overlap(self,a,b):\n",
    "        return np.exp(-0.5*((a-b))**2)\n",
    "\n",
    "    def __call__(self):\n",
    "        alpha_plus = np.array([[1,0,0,0]])\n",
    "\n",
    "        ##self.overlap <alpha_minus | v1>\n",
    "        a = self.overlap(-self.alpha,self.alpha)\n",
    "        #normalize v1\n",
    "        a0=np.sqrt(1-a**2)\n",
    "        alpha_minus = np.array([[a, a0,0,0]])\n",
    "\n",
    "        ## self.overlap <beta | v1>\n",
    "        b = self.overlap(self.beta, self.alpha)\n",
    "        ## self.overlap <self.beta | v2>\n",
    "        c = self.overlap(self.beta, -self.alpha ) - a*b\n",
    "        ## normalize v12\n",
    "        d = np.sqrt(1-b**2-c**2)\n",
    "        beta_plus = np.array([[b,c,d,0]])\n",
    "\n",
    "        ### <-beta | v1>\n",
    "        nu = self.overlap(-self.beta,self.alpha)\n",
    "        ## <-self.beta | v2>\n",
    "        mu = self.overlap(-self.beta, -self.alpha) - a*self.overlap(-self.beta, self.alpha)\n",
    "        ## <-self.beta| v3>\n",
    "        xu = self.overlap(-self.beta, self.beta ) - c*mu - b*nu\n",
    "        #normalize v4\n",
    "        d4 = np.sqrt(1 - xu**2 - mu**2 - nu**2 )#+ (xu*d)**2 + (nu*a0)**2 + nu**2 )\n",
    "\n",
    "        beta_minus = np.array([[nu,mu,xu,d4]])\n",
    "\n",
    "        rho1 = (alpha_plus.T.dot(alpha_plus) + beta_plus.T.dot(beta_plus) )/2\n",
    "        rho2 = (alpha_minus.T.dot(alpha_minus) + beta_minus.T.dot(beta_minus) )/2\n",
    "        trace_norm = np.sum(np.abs(np.linalg.eigvals(rho1-rho2)))\n",
    "\n",
    "        return (1 + trace_norm/2)/2\n",
    "\n",
    "if __name__ == \"__main__\":\n",
    "    hel = Helstrom(alpha=0.4, ep = 0.01)\n",
    "    print(hel())\n"
   ]
  }
 ],
 "metadata": {
  "kernelspec": {
   "display_name": "Python 3",
   "language": "python",
   "name": "python3"
  },
  "language_info": {
   "codemirror_mode": {
    "name": "ipython",
    "version": 3
   },
   "file_extension": ".py",
   "mimetype": "text/x-python",
   "name": "python",
   "nbconvert_exporter": "python",
   "pygments_lexer": "ipython3",
   "version": "3.6.9"
  }
 },
 "nbformat": 4,
 "nbformat_minor": 5
}
