{
 "cells": [
  {
   "cell_type": "code",
   "execution_count": 86,
   "id": "prescription-techno",
   "metadata": {},
   "outputs": [],
   "source": [
    "import numpy as np"
   ]
  },
  {
   "cell_type": "markdown",
   "id": "floral-jersey",
   "metadata": {},
   "source": [
    "Say we have 4 vectors (which are $|\\pm \\alpha\\rangle, |\\pm\\beta\\rangle$). We have then $\\rho_{1,2} = (|\\pm \\alpha><\\pm \\alpha| + |\\pm \\beta><\\pm \\beta|)/2$ with the association (1 --> +, 2--> -). We now want to create an orthonormal basis spanding that subspace, to write down $\\rho_1$ and \\rho2"
   ]
  },
  {
   "cell_type": "code",
   "execution_count": 87,
   "id": "intimate-applicant",
   "metadata": {},
   "outputs": [],
   "source": [
    "def overlap(a,b):\n",
    "    return np.exp(-0.5*(a-b)**2)"
   ]
  },
  {
   "cell_type": "markdown",
   "id": "peripheral-marker",
   "metadata": {},
   "source": [
    "We are free to choose the first two elements which are $v1 = (|\\alpha + \\beta>)/N$ and $v2 = |\\alpha - \\beta>/N$"
   ]
  },
  {
   "cell_type": "code",
   "execution_count": 90,
   "id": "bearing-kitty",
   "metadata": {},
   "outputs": [],
   "source": [
    "alpha = 0.4\n",
    "beta = np.sqrt(0.01)*alpha\n",
    "\n",
    "\n",
    "alpha_plus = np.array([[1,0,0,0]])\n",
    "\n",
    "##overlap <alpha_minus | v1>\n",
    "a = overlap(-alpha,alpha)\n",
    "#normalize v1\n",
    "a0=np.sqrt(1-a**2)\n",
    "alpha_minus = np.array([[a, a0,0,0]])\n",
    "\n",
    "## overlap <beta | v1>\n",
    "b = overlap(beta, alpha)\n",
    "## overlap <beta | v2> \n",
    "c = overlap(beta, -alpha ) - a*b\n",
    "## normalize v12\n",
    "d = np.sqrt(1-b**2-c**2)\n",
    "beta_plus = np.array([[b,c,d,0]])\n",
    "\n",
    "### <-beta | v1>\n",
    "nu = overlap(-beta,alpha)\n",
    "## <-beta | v2>\n",
    "mu = overlap(-beta, -alpha) - a*overlap(-beta, alpha)\n",
    "## <-beta| v3>\n",
    "xu = overlap(-beta, beta ) - c*mu - b*nu\n",
    "#normalize v4\n",
    "d4 = np.sqrt(1 - xu**2 - mu**2 - nu**2 )#+ (xu*d)**2 + (nu*a0)**2 + nu**2 )\n",
    "\n",
    "beta_minus = np.array([[nu,mu,xu,d4]])\n",
    "\n",
    "\n",
    "v1 = (alpha_plus + beta_plus)\n",
    "v2 = (alpha_plus - beta_plus)\n",
    "v3 = alpha_minus - a*v1 - b*v2\n",
    "v4= beta_minus - e*v3 - d*v2 - c*v1"
   ]
  },
  {
   "cell_type": "code",
   "execution_count": 91,
   "id": "strategic-prime",
   "metadata": {},
   "outputs": [],
   "source": [
    "rho1 = (alpha_plus.T.dot(alpha_plus) + beta_plus.T.dot(beta_plus) )/2\n",
    "rho2 = (alpha_minus.T.dot(alpha_minus) + beta_minus.T.dot(beta_minus) )/2\n",
    "\n",
    "def helstrom(rho1,rho2):\n",
    "    trace_norm = np.sum(np.abs(np.linalg.eigvals(rho1-rho2)))\n",
    "    return (1 + trace_norm/2)/2\n",
    "\n",
    "helstrom(rho1,rho2)"
   ]
  },
  {
   "cell_type": "code",
   "execution_count": 92,
   "id": "nervous-advice",
   "metadata": {},
   "outputs": [],
   "source": []
  },
  {
   "cell_type": "code",
   "execution_count": 93,
   "id": "split-excerpt",
   "metadata": {},
   "outputs": [],
   "source": []
  },
  {
   "cell_type": "code",
   "execution_count": 94,
   "id": "unlimited-return",
   "metadata": {},
   "outputs": [
    {
     "data": {
      "text/plain": [
       "0.7222374638505551"
      ]
     },
     "execution_count": 94,
     "metadata": {},
     "output_type": "execute_result"
    }
   ],
   "source": []
  },
  {
   "cell_type": "code",
   "execution_count": null,
   "id": "palestinian-jonathan",
   "metadata": {},
   "outputs": [],
   "source": []
  }
 ],
 "metadata": {
  "kernelspec": {
   "display_name": "Python 3",
   "language": "python",
   "name": "python3"
  },
  "language_info": {
   "codemirror_mode": {
    "name": "ipython",
    "version": 3
   },
   "file_extension": ".py",
   "mimetype": "text/x-python",
   "name": "python",
   "nbconvert_exporter": "python",
   "pygments_lexer": "ipython3",
   "version": "3.6.9"
  }
 },
 "nbformat": 4,
 "nbformat_minor": 5
}
