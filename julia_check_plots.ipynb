{
 "cells": [
  {
   "cell_type": "code",
   "execution_count": 1,
   "id": "nonprofit-creature",
   "metadata": {},
   "outputs": [],
   "source": [
    "using QuantumOptics"
   ]
  },
  {
   "cell_type": "code",
   "execution_count": 5,
   "id": "electronic-doubt",
   "metadata": {},
   "outputs": [],
   "source": [
    "using Plots"
   ]
  },
  {
   "cell_type": "code",
   "execution_count": 6,
   "id": "twelve-building",
   "metadata": {},
   "outputs": [
    {
     "name": "stdout",
     "output_type": "stream",
     "text": [
      "tr(ρ) = 0.999999999924824 + 0.0im\n"
     ]
    },
    {
     "data": {
      "text/plain": [
       "0.999999999924824 + 0.0im"
      ]
     },
     "execution_count": 6,
     "metadata": {},
     "output_type": "execute_result"
    }
   ],
   "source": [
    "N = 64 # density matrix dimension\n",
    "α = 5\n",
    "bs = FockBasis(N-1)\n",
    "ν = inv(√(2*(1+exp(-2abs2(α)))))\n",
    "ψ = ν * (coherentstate(bs, α) + coherentstate(bs, -α))\n",
    "ρ = ψ ⊗ ψ'\n",
    "@show tr(ρ)"
   ]
  },
  {
   "cell_type": "code",
   "execution_count": 7,
   "id": "paperback-syndicate",
   "metadata": {},
   "outputs": [
    {
     "ename": "LoadError",
     "evalue": "UndefVarError: .. not defined",
     "output_type": "error",
     "traceback": [
      "UndefVarError: .. not defined",
      "",
      "Stacktrace:",
      " [1] top-level scope",
      "   @ In[7]:2",
      " [2] eval",
      "   @ ./boot.jl:360 [inlined]",
      " [3] include_string(mapexpr::typeof(REPL.softscope), mod::Module, code::String, filename::String)",
      "   @ Base ./loading.jl:1116"
     ]
    }
   ],
   "source": [
    "ζ = 10\n",
    "xs = linspace(-ζ..ζ, 200)\n",
    "W = wigner(ρ, xs, xs) |> permutedims |> CTTomogram\n",
    "δW = 4ζ^2 / length(W)\n",
    "@show sum(W) * δW\n",
    "heatmap(xs, xs, W)"
   ]
  },
  {
   "cell_type": "code",
   "execution_count": null,
   "id": "demonstrated-jason",
   "metadata": {},
   "outputs": [],
   "source": []
  }
 ],
 "metadata": {
  "kernelspec": {
   "display_name": "Julia 1.6.2",
   "language": "julia",
   "name": "julia-1.6"
  },
  "language_info": {
   "file_extension": ".jl",
   "mimetype": "application/julia",
   "name": "julia",
   "version": "1.6.2"
  }
 },
 "nbformat": 4,
 "nbformat_minor": 5
}
