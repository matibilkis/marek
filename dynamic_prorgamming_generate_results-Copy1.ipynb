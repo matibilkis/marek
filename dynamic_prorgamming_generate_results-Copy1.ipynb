{
 "cells": [
  {
   "cell_type": "code",
   "execution_count": 1,
   "id": "elder-density",
   "metadata": {},
   "outputs": [],
   "source": [
    "%load_ext autoreload\n",
    "%autoreload 2\n",
    "\n",
    "import numpy as np\n",
    "import matplotlib.pyplot as plt\n",
    "from scipy.interpolate import interp1d\n",
    "from scipy import optimize\n",
    "from tqdm import tqdm\n",
    "import os \n",
    "import pandas as pd \n"
   ]
  },
  {
   "cell_type": "code",
   "execution_count": 18,
   "id": "veterinary-pittsburgh",
   "metadata": {},
   "outputs": [
    {
     "name": "stderr",
     "output_type": "stream",
     "text": [
      "  0%|          | 0/15 [00:00<?, ?it/s]\n",
      "  0%|          | 0/4 [00:00<?, ?it/s]\u001b[A\n",
      " 25%|██▌       | 1/4 [00:11<00:35, 11.93s/it]\u001b[A\n",
      " 50%|█████     | 2/4 [00:23<00:23, 11.78s/it]\u001b[A\n",
      " 75%|███████▌  | 3/4 [00:35<00:11, 11.90s/it]\u001b[A\n",
      "100%|██████████| 4/4 [00:47<00:00, 11.78s/it]\u001b[A\n",
      "  7%|▋         | 1/15 [00:47<11:00, 47.15s/it]\n",
      "  0%|          | 0/4 [00:00<?, ?it/s]\u001b[A\n",
      " 25%|██▌       | 1/4 [00:11<00:33, 11.24s/it]\u001b[A\n",
      " 50%|█████     | 2/4 [00:24<00:24, 12.18s/it]\u001b[A\n",
      " 75%|███████▌  | 3/4 [00:35<00:11, 11.73s/it]\u001b[A\n",
      "100%|██████████| 4/4 [00:45<00:00, 11.48s/it]\u001b[A\n",
      " 13%|█▎        | 2/15 [01:33<10:03, 46.43s/it]\n",
      "  0%|          | 0/4 [00:00<?, ?it/s]\u001b[A\n",
      " 25%|██▌       | 1/4 [00:10<00:32, 10.69s/it]\u001b[A\n",
      " 50%|█████     | 2/4 [00:21<00:21, 10.92s/it]\u001b[A\n",
      " 75%|███████▌  | 3/4 [00:32<00:10, 10.84s/it]\u001b[A\n",
      "100%|██████████| 4/4 [00:43<00:00, 10.89s/it]\u001b[A\n",
      " 20%|██        | 3/15 [02:16<09:01, 45.12s/it]\n",
      "  0%|          | 0/4 [00:00<?, ?it/s]\u001b[A\n",
      " 25%|██▌       | 1/4 [00:10<00:32, 10.69s/it]\u001b[A\n",
      " 50%|█████     | 2/4 [00:21<00:22, 11.01s/it]\u001b[A\n",
      " 75%|███████▌  | 3/4 [00:33<00:11, 11.08s/it]\u001b[A\n",
      "100%|██████████| 4/4 [00:44<00:00, 11.15s/it]\u001b[A\n",
      " 27%|██▋       | 4/15 [03:01<08:14, 44.91s/it]\n",
      "  0%|          | 0/4 [00:00<?, ?it/s]\u001b[A\n",
      " 25%|██▌       | 1/4 [00:12<00:37, 12.39s/it]\u001b[A\n",
      " 50%|█████     | 2/4 [00:24<00:24, 12.00s/it]\u001b[A\n",
      " 75%|███████▌  | 3/4 [00:36<00:12, 12.34s/it]\u001b[A\n",
      "100%|██████████| 4/4 [00:47<00:00, 11.88s/it]\u001b[A\n",
      " 33%|███▎      | 5/15 [03:48<07:38, 45.85s/it]\n",
      "  0%|          | 0/4 [00:00<?, ?it/s]\u001b[A\n",
      " 25%|██▌       | 1/4 [00:09<00:28,  9.58s/it]\u001b[A\n",
      " 50%|█████     | 2/4 [00:19<00:19,  9.62s/it]\u001b[A\n",
      " 75%|███████▌  | 3/4 [00:29<00:09,  9.95s/it]\u001b[A\n",
      "100%|██████████| 4/4 [00:38<00:00,  9.55s/it]\u001b[A\n",
      " 40%|████      | 6/15 [04:26<06:29, 43.25s/it]\n",
      "  0%|          | 0/4 [00:00<?, ?it/s]\u001b[A\n",
      " 25%|██▌       | 1/4 [00:08<00:25,  8.37s/it]\u001b[A\n",
      " 50%|█████     | 2/4 [00:16<00:16,  8.36s/it]\u001b[A\n",
      " 75%|███████▌  | 3/4 [00:25<00:08,  8.50s/it]\u001b[A\n",
      "100%|██████████| 4/4 [00:35<00:00,  8.99s/it]\u001b[A\n",
      " 47%|████▋     | 7/15 [05:02<05:26, 40.87s/it]\n",
      "  0%|          | 0/4 [00:00<?, ?it/s]\u001b[A\n",
      " 25%|██▌       | 1/4 [00:09<00:28,  9.49s/it]\u001b[A\n",
      " 50%|█████     | 2/4 [00:20<00:20, 10.15s/it]\u001b[A\n",
      " 75%|███████▌  | 3/4 [00:30<00:10, 10.32s/it]\u001b[A\n",
      "100%|██████████| 4/4 [00:41<00:00, 10.32s/it]\u001b[A\n",
      " 53%|█████▎    | 8/15 [05:44<04:46, 41.00s/it]\n",
      "  0%|          | 0/4 [00:00<?, ?it/s]\u001b[A\n",
      " 25%|██▌       | 1/4 [00:09<00:29,  9.92s/it]\u001b[A\n",
      " 50%|█████     | 2/4 [00:21<00:21, 10.71s/it]\u001b[A\n",
      " 75%|███████▌  | 3/4 [00:32<00:10, 10.76s/it]\u001b[A\n",
      "100%|██████████| 4/4 [00:43<00:00, 10.88s/it]\u001b[A\n",
      " 60%|██████    | 9/15 [06:27<04:10, 41.79s/it]\n",
      "  0%|          | 0/4 [00:00<?, ?it/s]\u001b[A\n",
      " 25%|██▌       | 1/4 [00:12<00:36, 12.28s/it]\u001b[A\n",
      " 50%|█████     | 2/4 [00:26<00:26, 13.16s/it]\u001b[A\n",
      " 75%|███████▌  | 3/4 [00:37<00:12, 12.37s/it]\u001b[A\n",
      "100%|██████████| 4/4 [00:49<00:00, 12.35s/it]\u001b[A\n",
      " 67%|██████▋   | 10/15 [07:17<03:40, 44.15s/it]\n",
      "  0%|          | 0/4 [00:00<?, ?it/s]\u001b[A\n",
      " 25%|██▌       | 1/4 [00:11<00:35, 11.80s/it]\u001b[A\n",
      " 50%|█████     | 2/4 [00:21<00:21, 10.73s/it]\u001b[A\n",
      " 75%|███████▌  | 3/4 [00:31<00:10, 10.34s/it]\u001b[A\n",
      "100%|██████████| 4/4 [00:41<00:00, 10.37s/it]\u001b[A\n",
      " 73%|███████▎  | 11/15 [07:58<02:53, 43.33s/it]\n",
      "  0%|          | 0/4 [00:00<?, ?it/s]\u001b[A\n",
      " 25%|██▌       | 1/4 [00:09<00:29,  9.76s/it]\u001b[A\n",
      " 50%|█████     | 2/4 [00:19<00:19,  9.82s/it]\u001b[A\n",
      " 75%|███████▌  | 3/4 [00:29<00:09,  9.83s/it]\u001b[A\n",
      "100%|██████████| 4/4 [00:39<00:00,  9.84s/it]\u001b[A\n",
      " 80%|████████  | 12/15 [08:37<02:06, 42.12s/it]\n",
      "  0%|          | 0/4 [00:00<?, ?it/s]\u001b[A\n",
      " 25%|██▌       | 1/4 [00:09<00:29,  9.93s/it]\u001b[A\n",
      " 50%|█████     | 2/4 [00:19<00:19,  9.80s/it]\u001b[A\n",
      " 75%|███████▌  | 3/4 [00:29<00:09,  9.74s/it]\u001b[A\n",
      "100%|██████████| 4/4 [00:39<00:00,  9.78s/it]\u001b[A\n",
      " 87%|████████▋ | 13/15 [09:17<01:22, 41.22s/it]\n",
      "  0%|          | 0/4 [00:00<?, ?it/s]\u001b[A\n",
      " 25%|██▌       | 1/4 [00:09<00:29,  9.86s/it]\u001b[A\n",
      " 50%|█████     | 2/4 [00:20<00:20, 10.43s/it]\u001b[A\n",
      " 75%|███████▌  | 3/4 [00:31<00:10, 10.46s/it]\u001b[A\n",
      "100%|██████████| 4/4 [00:41<00:00, 10.49s/it]\u001b[A\n",
      " 93%|█████████▎| 14/15 [09:59<00:41, 41.45s/it]\n",
      "  0%|          | 0/4 [00:00<?, ?it/s]\u001b[A\n",
      " 25%|██▌       | 1/4 [00:10<00:31, 10.59s/it]\u001b[A\n",
      " 50%|█████     | 2/4 [00:20<00:20, 10.40s/it]\u001b[A\n",
      " 75%|███████▌  | 3/4 [00:31<00:10, 10.39s/it]\u001b[A\n",
      "100%|██████████| 4/4 [00:41<00:00, 10.41s/it]\u001b[A\n",
      "100%|██████████| 15/15 [10:40<00:00, 42.72s/it]\n"
     ]
    }
   ],
   "source": [
    "\n",
    "\n",
    "class InterpolationModel:\n",
    "    def __init__(self, priors, labels):\n",
    "        self.model = interp1d(priors, labels)\n",
    "    def __call__(self, unseen_point):\n",
    "        if unseen_point < .5:\n",
    "            return self.model(1-unseen_point)\n",
    "        else:\n",
    "            return self.model(unseen_point)\n",
    "\n",
    "class RewardModel():\n",
    "    def __init__(self):\n",
    "        pass\n",
    "    def R_function(self,postirior_plus):\n",
    "        reward = np.max([postirior_plus, 1-postirior_plus])\n",
    "        return reward\n",
    "    def __call__(self,postiriors):\n",
    "        return self.R_function(postiriors)\n",
    "\n",
    "\n",
    "\n",
    "class SuccessProbability():\n",
    "    def __init__(self, n_phases=2,amplitude=0.4, prob_ep=0.5, ep=1):\n",
    "        self.n_phases = n_phases\n",
    "        self.amplitude = amplitude\n",
    "        self.possible_phases = np.array([-1.,1.])\n",
    "        self.ep=ep\n",
    "        self.prob_ep = prob_ep\n",
    "        \n",
    "    def NProb(self,outcome, amp,beta):\n",
    "        p0=0\n",
    "        for pep, ep in zip([self.prob_ep, 1-self.prob_ep],[self.ep, 1]):\n",
    "            p0+= pep*np.exp(-abs(complex(np.sqrt(ep)*amp)+complex(beta))**2)\n",
    "        if outcome == 0.:\n",
    "            return p0\n",
    "        else:\n",
    "            return 1-p0\n",
    "\n",
    "    def outcome_probability(self,outcome,prior_plus,beta,amp):\n",
    "        prs = [prior_plus, 1-prior_plus]\n",
    "        p=0\n",
    "        for phase,pr in zip([1,-1], prs):\n",
    "            p+= pr*self.NProb(outcome,phase*amp,beta)\n",
    "        return p\n",
    "\n",
    "    def postirior_probability(self,outcome, prior_plus, beta, amp):\n",
    "        prob_ot = self.outcome_probability(outcome, prior_plus, beta, amp)\n",
    "        return prior_plus*self.NProb(outcome, amp,beta)/prob_ot\n",
    "\n",
    "    def J_intermmediate(self, prior_plus, beta, amplitude,next_J_interpolation):\n",
    "        objective_function = 0\n",
    "        for outcome in [0, 1]:\n",
    "            postirior_plus = self.postirior_probability(outcome, prior_plus, beta, amplitude)\n",
    "            objective_function += next_J_interpolation(postirior_plus)*self.outcome_probability(outcome, prior_plus, beta, amplitude)\n",
    "        return -objective_function\n",
    "\n",
    "for amplitude in tqdm(np.linspace(.01,1.5,15)):\n",
    "    ep=1\n",
    "    number_photodetectors=4\n",
    "    \n",
    "    suc = SuccessProbability(amplitude=amplitude/np.sqrt(number_photodetectors), prob_ep=.5, ep=ep)\n",
    "\n",
    "    Npriors = 100\n",
    "    priors = np.linspace(.5,1,Npriors)\n",
    "\n",
    "    objective_functions = np.zeros((number_photodetectors+1,len(priors)))\n",
    "    displacements = np.zeros((number_photodetectors,len(priors)))\n",
    "\n",
    "\n",
    "    ### last layer ###\n",
    "    modelito = RewardModel()\n",
    "    for indp, pr in enumerate(priors):\n",
    "        objective_functions[number_photodetectors, indp] = modelito(pr)\n",
    "\n",
    "    for layer in tqdm(range(number_photodetectors)[::-1]):\n",
    "        if layer == number_photodetectors-1:\n",
    "            eff_amplitude=amplitude/np.sqrt(number_photodetectors)\n",
    "        else:\n",
    "            eff_amplitude = amplitude/np.sqrt(number_photodetectors)\n",
    "        mod = InterpolationModel(priors,objective_functions[layer+1])\n",
    "        for indp, pr in enumerate(priors):\n",
    "            def suc1(beta):\n",
    "                return suc.J_intermmediate(pr, beta[0], eff_amplitude, mod)\n",
    "            f=optimize.dual_annealing(suc1, [(-1,1)], maxiter=200,no_local_search=True )\n",
    "            objective_functions[layer,indp] = -f.fun\n",
    "            displacements[layer,indp] = f.x[0]\n",
    "            \n",
    "    os.makedirs(\"checkDP/{}/\".format(amplitude),exist_ok=True)\n",
    "    np.save(\"checkDP/{}/{}L_objective_function\".format(amplitude,number_photodetectors), objective_functions )"
   ]
  },
  {
   "cell_type": "code",
   "execution_count": 21,
   "id": "comparative-voice",
   "metadata": {},
   "outputs": [],
   "source": [
    "val=[]\n",
    "for amplitude in np.linspace(.01,1.5,15):\n",
    "    number_photodetectors = 4\n",
    "    val.append(np.load(\"checkDP/{}/{}L_objective_function.npy\".format(amplitude,number_photodetectors))[0,0])"
   ]
  },
  {
   "cell_type": "code",
   "execution_count": null,
   "id": "devoted-surface",
   "metadata": {},
   "outputs": [],
   "source": []
  },
  {
   "cell_type": "code",
   "execution_count": 29,
   "id": "recognized-crawford",
   "metadata": {},
   "outputs": [
    {
     "data": {
      "text/plain": [
       "[<matplotlib.lines.Line2D at 0x7f62b11e8748>]"
      ]
     },
     "execution_count": 29,
     "metadata": {},
     "output_type": "execute_result"
    },
    {
     "data": {
      "image/png": "[encoded data removed]",
      "text/plain": [
       "<Figure size 432x288 with 1 Axes>"
      ]
     },
     "metadata": {
      "needs_background": "light"
     },
     "output_type": "display_data"
    }
   ],
   "source": [
    "plt.plot(np.linspace(.01,1.5,15),np.array([helly(a) for a in np.linspace(.01,1.5,15)]) - np.array(val),'.')\n",
    "plt.plot(bets[:,0],bets[:,1]-bets[:,5])\n"
   ]
  },
  {
   "cell_type": "code",
   "execution_count": null,
   "id": "chief-phenomenon",
   "metadata": {},
   "outputs": [],
   "source": []
  },
  {
   "cell_type": "code",
   "execution_count": 15,
   "id": "korean-interview",
   "metadata": {},
   "outputs": [],
   "source": [
    "import pandas as pd\n",
    "bets = pd.read_csv(\"oldie/solobetas.csv\")\n",
    "bets = bets.to_numpy()"
   ]
  },
  {
   "cell_type": "code",
   "execution_count": 17,
   "id": "sealed-alabama",
   "metadata": {},
   "outputs": [
    {
     "data": {
      "text/plain": [
       "[<matplotlib.lines.Line2D at 0x7f62b23ea9e8>]"
      ]
     },
     "execution_count": 17,
     "metadata": {},
     "output_type": "execute_result"
    },
    {
     "data": {
      "image/png": "[encoded data removed]",
      "text/plain": [
       "<Figure size 432x288 with 1 Axes>"
      ]
     },
     "metadata": {
      "needs_background": "light"
     },
     "output_type": "display_data"
    }
   ],
   "source": [
    "plt.plot(np.linspace(.01,1.5,25),val)\n",
    "plt.plot(bets[:,0],bets[:,3])\n"
   ]
  },
  {
   "cell_type": "code",
   "execution_count": null,
   "id": "lasting-drunk",
   "metadata": {},
   "outputs": [],
   "source": []
  },
  {
   "cell_type": "code",
   "execution_count": null,
   "id": "durable-species",
   "metadata": {},
   "outputs": [],
   "source": []
  },
  {
   "cell_type": "code",
   "execution_count": 6,
   "id": "driven-welsh",
   "metadata": {},
   "outputs": [],
   "source": [
    "value=[]\n",
    "for number_photodetectors in range(1,50):\n",
    "    objfun = np.load(\"resultsdp/{}/{}L_objective_function.npy\".format(ep,number_photodetectors))\n",
    "    value.append(objfun[0,0])"
   ]
  },
  {
   "cell_type": "code",
   "execution_count": 18,
   "id": "owned-pioneer",
   "metadata": {},
   "outputs": [],
   "source": [
    "def homodyne(a=0.4, ep=0.01):\n",
    "    beta = np.sqrt(ep)*a\n",
    "#    p_err =  (1- erf(np.sqrt(2)*a) + 1 - erf(np.sqrt(2)*beta))/4\n",
    "#    return 1-p_err\n",
    "    return (2+ erf(np.sqrt(2)*a) + erf(np.sqrt(2)*beta))/4\n"
   ]
  },
  {
   "cell_type": "code",
   "execution_count": 36,
   "id": "narrow-column",
   "metadata": {},
   "outputs": [
    {
     "data": {
      "image/png": "[encoded data removed]",
      "text/plain": [
       "<Figure size 720x720 with 1 Axes>"
      ]
     },
     "metadata": {},
     "output_type": "display_data"
    }
   ],
   "source": [
    "from helstrom import Helstrom\n",
    "from math import erf\n",
    "\n",
    "hel = Helstrom(alpha=0.4, ep = 0.01)\n",
    "helstrom_avg = hel()\n",
    "\n",
    "\n",
    "plt.xkcd(False)\n",
    "plt.figure(figsize=(10,10))\n",
    "plt.scatter(range(len(value)),value,alpha=0.8,color=\"black\",s=200, label=\"$P^{*}_{s}(L)$\")\n",
    "ticks=[1, 10, 20, 30, 40, 50]\n",
    "plt.xticks(ticks,[str(t) for t in ticks],size=10)\n",
    "plt.xlabel(\"Number of photodetectors\",size=20)\n",
    "plt.yticks(size=20)\n",
    "plt.plot(range(len(value)), np.ones(len(value))*homodyne(0.4,ep=0.01), linewidth=5, color=\"green\",alpha=0.4, label=\"Homodyne\")\n",
    "plt.plot(range(len(value)), np.ones(len(value))*helstrom_avg, color=\"black\", linewidth=5,alpha=0.4, label=\"Helstrom\")\n",
    "plt.legend(prop={\"size\":25}, loc=\"best\")\n",
    "#plt.title(r'$\\alpha = 0.4$'+\"\\n\"+r'$\\epsilon = 0.01$', size=30)\n",
    "plt.savefig(\"figures_iee/comparison_fixed_energy_and_damping.pdf\")"
   ]
  },
  {
   "cell_type": "code",
   "execution_count": 26,
   "id": "average-skiing",
   "metadata": {},
   "outputs": [],
   "source": [
    "def helly(amplitude):\n",
    "    return (1 + np.sqrt(1-np.exp(-4*(amplitude**2))))/2"
   ]
  },
  {
   "cell_type": "code",
   "execution_count": 62,
   "id": "electronic-supervisor",
   "metadata": {},
   "outputs": [
    {
     "data": {
      "text/plain": [
       "0.8437686634776909"
      ]
     },
     "execution_count": 62,
     "metadata": {},
     "output_type": "execute_result"
    }
   ],
   "source": [
    "amplitude = 0.4\n",
    "helly(amplitude)"
   ]
  },
  {
   "cell_type": "code",
   "execution_count": 63,
   "id": "convertible-correction",
   "metadata": {},
   "outputs": [
    {
     "data": {
      "text/plain": [
       "0.7222374638505551"
      ]
     },
     "execution_count": 63,
     "metadata": {},
     "output_type": "execute_result"
    }
   ],
   "source": [
    "hel = Helstrom(alpha=0.4, ep = 0.01)\n",
    "helstrom_avg = hel()\n",
    "helstrom_avg"
   ]
  },
  {
   "cell_type": "code",
   "execution_count": 58,
   "id": "described-microphone",
   "metadata": {},
   "outputs": [
    {
     "data": {
      "text/plain": [
       "0.4"
      ]
     },
     "execution_count": 58,
     "metadata": {},
     "output_type": "execute_result"
    }
   ],
   "source": [
    "hel.alpha"
   ]
  },
  {
   "cell_type": "code",
   "execution_count": null,
   "id": "latin-experiment",
   "metadata": {},
   "outputs": [],
   "source": []
  }
 ],
 "metadata": {
  "kernelspec": {
   "display_name": "Python 3",
   "language": "python",
   "name": "python3"
  },
  "language_info": {
   "codemirror_mode": {
    "name": "ipython",
    "version": 3
   },
   "file_extension": ".py",
   "mimetype": "text/x-python",
   "name": "python",
   "nbconvert_exporter": "python",
   "pygments_lexer": "ipython3",
   "version": "3.6.9"
  }
 },
 "nbformat": 4,
 "nbformat_minor": 5
}
