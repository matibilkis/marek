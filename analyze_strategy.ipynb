{
 "cells": [
  {
   "cell_type": "code",
   "execution_count": 41,
   "id": "listed-hypothesis",
   "metadata": {},
   "outputs": [
    {
     "name": "stdout",
     "output_type": "stream",
     "text": [
      "The autoreload extension is already loaded. To reload it, use:\n",
      "  %reload_ext autoreload\n"
     ]
    }
   ],
   "source": [
    "%load_ext autoreload\n",
    "%autoreload 2\n",
    "\n",
    "import os\n",
    "import numpy as np\n",
    "from tqdm import tqdm\n",
    "import matplotlib.pyplot as plt\n",
    "from scipy import optimize, linalg\n",
    "from math import erf, erfc\n",
    "from scipy.optimize import *\n",
    "from agent import Agent\n",
    "\n",
    "\n",
    "def overlap(a1,a2):\n",
    "    return np.exp(-0.5*abs(a1-a2)**2)\n",
    "\n",
    "def rho0(B, pr_at0=0.5):\n",
    "    return pr_at0*np.outer(*[B[:,0]]*2) + (1-pr_at0)*np.outer(*[B[:,1]]*2)\n",
    "def rho1(B, pr_at0=0.5):\n",
    "    return pr_at0*np.outer(*[B[:,2]]*2) + (1-pr_at0)*np.outer(*[B[:,3]]*2)\n",
    "\n",
    "def helstrom_success_fun(amplitude, epsilon1=1e-2, epsilon2=1.):\n",
    "    at1 = np.sqrt(epsilon1)\n",
    "    at2 = np.sqrt(epsilon2)\n",
    "    a1=amplitude\n",
    "    a2=-amplitude\n",
    "    gram = np.zeros((4,4))\n",
    "    for indi, i in enumerate([at1*a1, at2*a1, at1*a2, at2*a2]):\n",
    "        for indj, j in enumerate([at1*a1, at2*a1, at1*a2, at2*a2]):\n",
    "            gram[indi,indj] = overlap(i,j)\n",
    "    B = linalg.sqrtm(gram)\n",
    "    q0 = 0.5\n",
    "    q1 = 1-q0\n",
    "    rho = q0*rho0(B) - q1*rho1(B)\n",
    "    trace_norm = np.sum(np.abs(np.linalg.eigvals(rho)))\n",
    "    helstrom_success = (1+trace_norm)/2\n",
    "    return helstrom_success\n",
    "\n",
    "def homodyne_success(a):\n",
    "    return (1+ erf(np.sqrt(2)*a))/2\n",
    "\n",
    "def fading_homodyne_success(a, epsilon1=1e-2,epsilon2=1. ,pat0=0.5):\n",
    "    return pat0*homodyne_success(np.sqrt(epsilon1)*a) + (1-pat0)*homodyne_success(np.sqrt(epsilon2)*a)\n",
    "\n",
    "\n",
    "\n",
    "def Pr(alpha, beta, bs_at, outcome, channel_params=None):\n",
    "    if channel_params is None:\n",
    "        p= np.exp(-abs(alpha + beta)**2)\n",
    "    else:\n",
    "        pis, ats = channel_params #### [[pi, 1-pi], [epsilon, 1]]\n",
    "        p=0\n",
    "        for pfading, at in zip(pis,ats):\n",
    "           p+= pfading*np.exp(-abs(np.sqrt(at)*alpha*bs_at + beta)**2)\n",
    "    if outcome==0.:\n",
    "        return p\n",
    "    else:\n",
    "        return 1-p\n",
    "    \n",
    "def Ptotoutcome(prior_plus,alpha,beta, bs_at, outcome, channel_params=None):\n",
    "    return prior_plus*Pr(alpha,beta, bs_at, outcome,channel_params) + (1-prior_plus)*Pr(-alpha,beta, bs_at, outcome, channel_params)\n",
    "\n",
    "def error_probability_1L(betas, amplitude, channel):\n",
    "    b0= betas[0]\n",
    "    p=0\n",
    "    for n1 in [0.,1.]:\n",
    "        ph = [-1,1][np.argmax([Pr(ph*amplitude, b0 ,1, n1, channel) for ph in [-1,1]])]\n",
    "        p+=Pr(ph*amplitude, b0 ,1, n1, channel)/2\n",
    "    return 1-p\n",
    "\n",
    "\n",
    "def error_probability_2L(betas, amplitude, channel):\n",
    "    b0, b1 ,b2 = betas\n",
    "    p=0\n",
    "    for n1,n2 in zip([0,0,1,1],[0,1,0,1]):\n",
    "        bp = []\n",
    "        for ph in [-1,1]:\n",
    "            f=0\n",
    "            for patt,att in zip(channel[0], channel[1]):\n",
    "                f+=patt*agent.P(np.sqrt(att)*ph*amplitude, b0 ,1/np.sqrt(2), n1)*agent.P(np.sqrt(att)*ph*amplitude, [b1,b2][n1] ,1/np.sqrt(2), n2)/2\n",
    "            bp.append(f)\n",
    "        p+=np.max(bp)\n",
    "    return 1-p\n",
    "\n",
    "channels = {}\n",
    "channels[0] = [[.5,.5],[1,1]]\n",
    "channels[1] = [[.5,.5],[.01,1]]"
   ]
  },
  {
   "cell_type": "code",
   "execution_count": 42,
   "id": "improving-richards",
   "metadata": {},
   "outputs": [
    {
     "name": "stderr",
     "output_type": "stream",
     "text": [
      "100it [00:10,  9.64it/s]\n",
      "100it [19:39, 11.80s/it]\n"
     ]
    }
   ],
   "source": [
    "caseid=1\n",
    "agent = Agent()\n",
    "amps=np.linspace(1,2,100)\n",
    "\n",
    "attenuations = channels[caseid][1]\n",
    "fading_channel = channels[caseid]\n",
    "betas = np.linspace(-max(amps)*2,2*max(amps),1000)\n",
    "s1,fun1 = np.zeros((2,len(amps)))\n",
    "s2 = np.zeros((len(amps)))\n",
    "fun2 = np.zeros((len(amps),3))\n",
    "\n",
    "for inda,a in tqdm(enumerate(amps)):\n",
    "\n",
    "    seed = betas[np.argmin([error_probability_1L([b], a, fading_channel) for b in betas])]\n",
    "    ff = minimize(error_probability_1L,x0=seed, method=\"BFGS\", args=(a,fading_channel),bounds=[tuple([None, None])])\n",
    "    s1[inda]= 1-ff.fun\n",
    "    fun1[inda]= ff.x\n",
    "\n",
    "\n",
    "for inda,a in tqdm(enumerate(amps)):\n",
    "\n",
    "\n",
    "    f=dual_annealing(error_probability_2L,([(-max(2*a,1),max(2*a,1))])*3, args=[a, fading_channel], maxiter=5000,no_local_search=True)\n",
    "    s2[inda] = 1-f.fun\n",
    "    fun2[inda] = f.x\n",
    "\n",
    "\n",
    "homodynes_values = np.array([fading_homodyne_success(a, epsilon1=attenuations[0], epsilon2=attenuations[1]) for a in amps])\n",
    "helstroms_values = np.array([helstrom_success_fun(a,epsilon1=attenuations[0], epsilon2=attenuations[1]) for a in amps])\n",
    "\n",
    "os.makedirs(\"datos_id/{}\".format(caseid),exist_ok=True)\n",
    "np.save(\"datos_id/{}/ar_2L_s\".format(caseid),s2)\n",
    "np.save(\"datos_id/{}/ar_2L_betas\".format(caseid),fun2)\n",
    "np.save(\"datos_id/{}/ar_1L_s\".format(caseid),s1)\n",
    "np.save(\"datos_id/{}/ar_1L_betas\".format(caseid),fun1)\n",
    "np.save(\"datos_id/{}/homodynes\".format(caseid),homodynes_values)\n",
    "np.save(\"datos_id/{}/helstroms\".format(caseid),helstroms_values)\n"
   ]
  },
  {
   "cell_type": "code",
   "execution_count": 19,
   "id": "adjustable-geography",
   "metadata": {
    "scrolled": true
   },
   "outputs": [],
   "source": [
    "ammps = np.linspace(0,3,100)\n",
    "sss2 = np.load(\"data_cases/1/ar_2L_s.npy\")\n",
    "hells = np.load(\"data_cases/1/helstroms.npy\")"
   ]
  },
  {
   "cell_type": "code",
   "execution_count": 32,
   "id": "favorite-digit",
   "metadata": {},
   "outputs": [
    {
     "data": {
      "text/plain": [
       "[<matplotlib.lines.Line2D at 0x7f2ed73222b0>]"
      ]
     },
     "execution_count": 32,
     "metadata": {},
     "output_type": "execute_result"
    },
    {
     "data": {
      "image/png": "[encoded data removed]",
      "text/plain": [
       "<Figure size 432x288 with 1 Axes>"
      ]
     },
     "metadata": {
      "needs_background": "light"
     },
     "output_type": "display_data"
    }
   ],
   "source": [
    "plt.plot(amps,helstroms_values-s2,'.')\n",
    "plt.plot(ammps, (hells-sss2))"
   ]
  },
  {
   "cell_type": "code",
   "execution_count": 25,
   "id": "optimum-division",
   "metadata": {},
   "outputs": [
    {
     "data": {
      "text/plain": [
       "[<matplotlib.lines.Line2D at 0x7f2ed7a7ca58>]"
      ]
     },
     "execution_count": 25,
     "metadata": {},
     "output_type": "execute_result"
    },
    {
     "data": {
      "image/png": "[encoded data removed]",
      "text/plain": [
       "<Figure size 432x288 with 1 Axes>"
      ]
     },
     "metadata": {
      "needs_background": "light"
     },
     "output_type": "display_data"
    }
   ],
   "source": [
    "plt.plot(hells-sss2)"
   ]
  },
  {
   "cell_type": "code",
   "execution_count": 34,
   "id": "negative-northeast",
   "metadata": {},
   "outputs": [
    {
     "ename": "RuntimeError",
     "evalue": "node.js v14.0.0 or higher is needed to allow compilation of custom models (\"conda install nodejs\" or follow https://nodejs.org/en/download/)",
     "output_type": "error",
     "traceback": [
      "\u001b[0;31m---------------------------------------------------------------------------\u001b[0m",
      "\u001b[0;31mRuntimeError\u001b[0m                              Traceback (most recent call last)",
      "\u001b[0;32m<ipython-input-34-141681d3d855>\u001b[0m in \u001b[0;36m<module>\u001b[0;34m\u001b[0m\n\u001b[1;32m    105\u001b[0m \u001b[0mp\u001b[0m\u001b[0;34m.\u001b[0m\u001b[0madd_layout\u001b[0m\u001b[0;34m(\u001b[0m\u001b[0mlatex\u001b[0m\u001b[0;34m)\u001b[0m\u001b[0;34m\u001b[0m\u001b[0;34m\u001b[0m\u001b[0m\n\u001b[1;32m    106\u001b[0m \u001b[0;34m\u001b[0m\u001b[0m\n\u001b[0;32m--> 107\u001b[0;31m \u001b[0mshow\u001b[0m\u001b[0;34m(\u001b[0m\u001b[0mp\u001b[0m\u001b[0;34m)\u001b[0m\u001b[0;34m\u001b[0m\u001b[0;34m\u001b[0m\u001b[0m\n\u001b[0m",
      "\u001b[0;32m~/.local/lib/python3.6/site-packages/bokeh/io/showing.py\u001b[0m in \u001b[0;36mshow\u001b[0;34m(obj, browser, new, notebook_handle, notebook_url, **kw)\u001b[0m\n\u001b[1;32m    137\u001b[0m         \u001b[0;32mreturn\u001b[0m \u001b[0mrun_notebook_hook\u001b[0m\u001b[0;34m(\u001b[0m\u001b[0mstate\u001b[0m\u001b[0;34m.\u001b[0m\u001b[0mnotebook_type\u001b[0m\u001b[0;34m,\u001b[0m \u001b[0;34m'app'\u001b[0m\u001b[0;34m,\u001b[0m \u001b[0mobj\u001b[0m\u001b[0;34m,\u001b[0m \u001b[0mstate\u001b[0m\u001b[0;34m,\u001b[0m \u001b[0mnotebook_url\u001b[0m\u001b[0;34m,\u001b[0m \u001b[0;34m**\u001b[0m\u001b[0mkw\u001b[0m\u001b[0;34m)\u001b[0m\u001b[0;34m\u001b[0m\u001b[0;34m\u001b[0m\u001b[0m\n\u001b[1;32m    138\u001b[0m \u001b[0;34m\u001b[0m\u001b[0m\n\u001b[0;32m--> 139\u001b[0;31m     \u001b[0;32mreturn\u001b[0m \u001b[0m_show_with_state\u001b[0m\u001b[0;34m(\u001b[0m\u001b[0mobj\u001b[0m\u001b[0;34m,\u001b[0m \u001b[0mstate\u001b[0m\u001b[0;34m,\u001b[0m \u001b[0mbrowser\u001b[0m\u001b[0;34m,\u001b[0m \u001b[0mnew\u001b[0m\u001b[0;34m,\u001b[0m \u001b[0mnotebook_handle\u001b[0m\u001b[0;34m=\u001b[0m\u001b[0mnotebook_handle\u001b[0m\u001b[0;34m)\u001b[0m\u001b[0;34m\u001b[0m\u001b[0;34m\u001b[0m\u001b[0m\n\u001b[0m\u001b[1;32m    140\u001b[0m \u001b[0;34m\u001b[0m\u001b[0m\n\u001b[1;32m    141\u001b[0m \u001b[0;31m#-----------------------------------------------------------------------------\u001b[0m\u001b[0;34m\u001b[0m\u001b[0;34m\u001b[0m\u001b[0;34m\u001b[0m\u001b[0m\n",
      "\u001b[0;32m~/.local/lib/python3.6/site-packages/bokeh/io/showing.py\u001b[0m in \u001b[0;36m_show_with_state\u001b[0;34m(obj, state, browser, new, notebook_handle)\u001b[0m\n\u001b[1;32m    175\u001b[0m \u001b[0;34m\u001b[0m\u001b[0m\n\u001b[1;32m    176\u001b[0m     \u001b[0;32mif\u001b[0m \u001b[0mstate\u001b[0m\u001b[0;34m.\u001b[0m\u001b[0mfile\u001b[0m \u001b[0;32mor\u001b[0m \u001b[0;32mnot\u001b[0m \u001b[0mshown\u001b[0m\u001b[0;34m:\u001b[0m\u001b[0;34m\u001b[0m\u001b[0;34m\u001b[0m\u001b[0m\n\u001b[0;32m--> 177\u001b[0;31m         \u001b[0m_show_file_with_state\u001b[0m\u001b[0;34m(\u001b[0m\u001b[0mobj\u001b[0m\u001b[0;34m,\u001b[0m \u001b[0mstate\u001b[0m\u001b[0;34m,\u001b[0m \u001b[0mnew\u001b[0m\u001b[0;34m,\u001b[0m \u001b[0mcontroller\u001b[0m\u001b[0;34m)\u001b[0m\u001b[0;34m\u001b[0m\u001b[0;34m\u001b[0m\u001b[0m\n\u001b[0m\u001b[1;32m    178\u001b[0m \u001b[0;34m\u001b[0m\u001b[0m\n\u001b[1;32m    179\u001b[0m     \u001b[0;32mreturn\u001b[0m \u001b[0mcomms_handle\u001b[0m\u001b[0;34m\u001b[0m\u001b[0;34m\u001b[0m\u001b[0m\n",
      "\u001b[0;32m~/.local/lib/python3.6/site-packages/bokeh/io/showing.py\u001b[0m in \u001b[0;36m_show_file_with_state\u001b[0;34m(obj, state, new, controller)\u001b[0m\n\u001b[1;32m    158\u001b[0m \u001b[0;34m\u001b[0m\u001b[0m\n\u001b[1;32m    159\u001b[0m     '''\n\u001b[0;32m--> 160\u001b[0;31m     \u001b[0mfilename\u001b[0m \u001b[0;34m=\u001b[0m \u001b[0msave\u001b[0m\u001b[0;34m(\u001b[0m\u001b[0mobj\u001b[0m\u001b[0;34m,\u001b[0m \u001b[0mstate\u001b[0m\u001b[0;34m=\u001b[0m\u001b[0mstate\u001b[0m\u001b[0;34m)\u001b[0m\u001b[0;34m\u001b[0m\u001b[0;34m\u001b[0m\u001b[0m\n\u001b[0m\u001b[1;32m    161\u001b[0m     \u001b[0mcontroller\u001b[0m\u001b[0;34m.\u001b[0m\u001b[0mopen\u001b[0m\u001b[0;34m(\u001b[0m\u001b[0;34m\"file://\"\u001b[0m \u001b[0;34m+\u001b[0m \u001b[0mfilename\u001b[0m\u001b[0;34m,\u001b[0m \u001b[0mnew\u001b[0m\u001b[0;34m=\u001b[0m\u001b[0mNEW_PARAM\u001b[0m\u001b[0;34m[\u001b[0m\u001b[0mnew\u001b[0m\u001b[0;34m]\u001b[0m\u001b[0;34m)\u001b[0m\u001b[0;34m\u001b[0m\u001b[0;34m\u001b[0m\u001b[0m\n\u001b[1;32m    162\u001b[0m \u001b[0;34m\u001b[0m\u001b[0m\n",
      "\u001b[0;32m~/.local/lib/python3.6/site-packages/bokeh/io/saving.py\u001b[0m in \u001b[0;36msave\u001b[0;34m(obj, filename, resources, title, template, state, **kwargs)\u001b[0m\n\u001b[1;32m     84\u001b[0m \u001b[0;34m\u001b[0m\u001b[0m\n\u001b[1;32m     85\u001b[0m     \u001b[0mfilename\u001b[0m\u001b[0;34m,\u001b[0m \u001b[0mresources\u001b[0m\u001b[0;34m,\u001b[0m \u001b[0mtitle\u001b[0m \u001b[0;34m=\u001b[0m \u001b[0m_get_save_args\u001b[0m\u001b[0;34m(\u001b[0m\u001b[0mstate\u001b[0m\u001b[0;34m,\u001b[0m \u001b[0mfilename\u001b[0m\u001b[0;34m,\u001b[0m \u001b[0mresources\u001b[0m\u001b[0;34m,\u001b[0m \u001b[0mtitle\u001b[0m\u001b[0;34m)\u001b[0m\u001b[0;34m\u001b[0m\u001b[0;34m\u001b[0m\u001b[0m\n\u001b[0;32m---> 86\u001b[0;31m     \u001b[0m_save_helper\u001b[0m\u001b[0;34m(\u001b[0m\u001b[0mobj\u001b[0m\u001b[0;34m,\u001b[0m \u001b[0mfilename\u001b[0m\u001b[0;34m,\u001b[0m \u001b[0mresources\u001b[0m\u001b[0;34m,\u001b[0m \u001b[0mtitle\u001b[0m\u001b[0;34m,\u001b[0m \u001b[0mtemplate\u001b[0m\u001b[0;34m,\u001b[0m \u001b[0mtheme\u001b[0m\u001b[0;34m)\u001b[0m\u001b[0;34m\u001b[0m\u001b[0;34m\u001b[0m\u001b[0m\n\u001b[0m\u001b[1;32m     87\u001b[0m     \u001b[0;32mreturn\u001b[0m \u001b[0mabspath\u001b[0m\u001b[0;34m(\u001b[0m\u001b[0mfilename\u001b[0m\u001b[0;34m)\u001b[0m\u001b[0;34m\u001b[0m\u001b[0;34m\u001b[0m\u001b[0m\n\u001b[1;32m     88\u001b[0m \u001b[0;34m\u001b[0m\u001b[0m\n",
      "\u001b[0;32m~/.local/lib/python3.6/site-packages/bokeh/io/saving.py\u001b[0m in \u001b[0;36m_save_helper\u001b[0;34m(obj, filename, resources, title, template, theme)\u001b[0m\n\u001b[1;32m    146\u001b[0m     '''\n\u001b[1;32m    147\u001b[0m     \u001b[0;32mfrom\u001b[0m \u001b[0;34m.\u001b[0m\u001b[0;34m.\u001b[0m\u001b[0membed\u001b[0m \u001b[0;32mimport\u001b[0m \u001b[0mfile_html\u001b[0m\u001b[0;34m\u001b[0m\u001b[0;34m\u001b[0m\u001b[0m\n\u001b[0;32m--> 148\u001b[0;31m     \u001b[0mhtml\u001b[0m \u001b[0;34m=\u001b[0m \u001b[0mfile_html\u001b[0m\u001b[0;34m(\u001b[0m\u001b[0mobj\u001b[0m\u001b[0;34m,\u001b[0m \u001b[0mresources\u001b[0m\u001b[0;34m,\u001b[0m \u001b[0mtitle\u001b[0m\u001b[0;34m=\u001b[0m\u001b[0mtitle\u001b[0m\u001b[0;34m,\u001b[0m \u001b[0mtemplate\u001b[0m\u001b[0;34m=\u001b[0m\u001b[0mtemplate\u001b[0m\u001b[0;34m,\u001b[0m \u001b[0mtheme\u001b[0m\u001b[0;34m=\u001b[0m\u001b[0mtheme\u001b[0m\u001b[0;34m)\u001b[0m\u001b[0;34m\u001b[0m\u001b[0;34m\u001b[0m\u001b[0m\n\u001b[0m\u001b[1;32m    149\u001b[0m \u001b[0;34m\u001b[0m\u001b[0m\n\u001b[1;32m    150\u001b[0m     \u001b[0;32mwith\u001b[0m \u001b[0mopen\u001b[0m\u001b[0;34m(\u001b[0m\u001b[0mfilename\u001b[0m\u001b[0;34m,\u001b[0m \u001b[0mmode\u001b[0m\u001b[0;34m=\u001b[0m\u001b[0;34m\"w\"\u001b[0m\u001b[0;34m,\u001b[0m \u001b[0mencoding\u001b[0m\u001b[0;34m=\u001b[0m\u001b[0;34m\"utf-8\"\u001b[0m\u001b[0;34m)\u001b[0m \u001b[0;32mas\u001b[0m \u001b[0mf\u001b[0m\u001b[0;34m:\u001b[0m\u001b[0;34m\u001b[0m\u001b[0;34m\u001b[0m\u001b[0m\n",
      "\u001b[0;32m~/.local/lib/python3.6/site-packages/bokeh/embed/standalone.py\u001b[0m in \u001b[0;36mfile_html\u001b[0;34m(models, resources, title, template, template_variables, theme, suppress_callback_warning, _always_new)\u001b[0m\n\u001b[1;32m    304\u001b[0m         \u001b[0;34m(\u001b[0m\u001b[0mdocs_json\u001b[0m\u001b[0;34m,\u001b[0m \u001b[0mrender_items\u001b[0m\u001b[0;34m)\u001b[0m \u001b[0;34m=\u001b[0m \u001b[0mstandalone_docs_json_and_render_items\u001b[0m\u001b[0;34m(\u001b[0m\u001b[0mmodels_seq\u001b[0m\u001b[0;34m,\u001b[0m \u001b[0msuppress_callback_warning\u001b[0m\u001b[0;34m=\u001b[0m\u001b[0msuppress_callback_warning\u001b[0m\u001b[0;34m)\u001b[0m\u001b[0;34m\u001b[0m\u001b[0;34m\u001b[0m\u001b[0m\n\u001b[1;32m    305\u001b[0m         \u001b[0mtitle\u001b[0m \u001b[0;34m=\u001b[0m \u001b[0m_title_from_models\u001b[0m\u001b[0;34m(\u001b[0m\u001b[0mmodels_seq\u001b[0m\u001b[0;34m,\u001b[0m \u001b[0mtitle\u001b[0m\u001b[0;34m)\u001b[0m\u001b[0;34m\u001b[0m\u001b[0;34m\u001b[0m\u001b[0m\n\u001b[0;32m--> 306\u001b[0;31m         \u001b[0mbundle\u001b[0m \u001b[0;34m=\u001b[0m \u001b[0mbundle_for_objs_and_resources\u001b[0m\u001b[0;34m(\u001b[0m\u001b[0;34m[\u001b[0m\u001b[0mdoc\u001b[0m\u001b[0;34m]\u001b[0m\u001b[0;34m,\u001b[0m \u001b[0mresources\u001b[0m\u001b[0;34m)\u001b[0m\u001b[0;34m\u001b[0m\u001b[0;34m\u001b[0m\u001b[0m\n\u001b[0m\u001b[1;32m    307\u001b[0m         return html_page_for_render_items(bundle, docs_json, render_items, title=title,\n\u001b[1;32m    308\u001b[0m                                           template=template, template_variables=template_variables)\n",
      "\u001b[0;32m~/.local/lib/python3.6/site-packages/bokeh/embed/bundle.py\u001b[0m in \u001b[0;36mbundle_for_objs_and_resources\u001b[0;34m(objs, resources)\u001b[0m\n\u001b[1;32m    193\u001b[0m \u001b[0;34m\u001b[0m\u001b[0m\n\u001b[1;32m    194\u001b[0m     \u001b[0mmodels\u001b[0m \u001b[0;34m=\u001b[0m \u001b[0;34m[\u001b[0m \u001b[0mobj\u001b[0m\u001b[0;34m.\u001b[0m\u001b[0m__class__\u001b[0m \u001b[0;32mfor\u001b[0m \u001b[0mobj\u001b[0m \u001b[0;32min\u001b[0m \u001b[0m_all_objs\u001b[0m\u001b[0;34m(\u001b[0m\u001b[0mobjs\u001b[0m\u001b[0;34m)\u001b[0m \u001b[0;34m]\u001b[0m \u001b[0;32mif\u001b[0m \u001b[0mobjs\u001b[0m \u001b[0;32melse\u001b[0m \u001b[0;32mNone\u001b[0m\u001b[0;34m\u001b[0m\u001b[0;34m\u001b[0m\u001b[0m\n\u001b[0;32m--> 195\u001b[0;31m     \u001b[0mext\u001b[0m \u001b[0;34m=\u001b[0m \u001b[0mbundle_models\u001b[0m\u001b[0;34m(\u001b[0m\u001b[0mmodels\u001b[0m\u001b[0;34m)\u001b[0m\u001b[0;34m\u001b[0m\u001b[0;34m\u001b[0m\u001b[0m\n\u001b[0m\u001b[1;32m    196\u001b[0m     \u001b[0;32mif\u001b[0m \u001b[0mext\u001b[0m \u001b[0;32mis\u001b[0m \u001b[0;32mnot\u001b[0m \u001b[0;32mNone\u001b[0m\u001b[0;34m:\u001b[0m\u001b[0;34m\u001b[0m\u001b[0;34m\u001b[0m\u001b[0m\n\u001b[1;32m    197\u001b[0m         \u001b[0mjs_raw\u001b[0m\u001b[0;34m.\u001b[0m\u001b[0mappend\u001b[0m\u001b[0;34m(\u001b[0m\u001b[0mext\u001b[0m\u001b[0;34m)\u001b[0m\u001b[0;34m\u001b[0m\u001b[0;34m\u001b[0m\u001b[0m\n",
      "\u001b[0;32m~/.local/lib/python3.6/site-packages/bokeh/util/compiler.py\u001b[0m in \u001b[0;36mbundle_models\u001b[0;34m(models)\u001b[0m\n\u001b[1;32m    293\u001b[0m     \u001b[0;32mif\u001b[0m \u001b[0mbundle\u001b[0m \u001b[0;32mis\u001b[0m \u001b[0;32mNone\u001b[0m\u001b[0;34m:\u001b[0m\u001b[0;34m\u001b[0m\u001b[0;34m\u001b[0m\u001b[0m\n\u001b[1;32m    294\u001b[0m         \u001b[0;32mtry\u001b[0m\u001b[0;34m:\u001b[0m\u001b[0;34m\u001b[0m\u001b[0;34m\u001b[0m\u001b[0m\n\u001b[0;32m--> 295\u001b[0;31m             \u001b[0m_bundle_cache\u001b[0m\u001b[0;34m[\u001b[0m\u001b[0mkey\u001b[0m\u001b[0;34m]\u001b[0m \u001b[0;34m=\u001b[0m \u001b[0mbundle\u001b[0m \u001b[0;34m=\u001b[0m \u001b[0m_bundle_models\u001b[0m\u001b[0;34m(\u001b[0m\u001b[0mcustom_models\u001b[0m\u001b[0;34m)\u001b[0m\u001b[0;34m\u001b[0m\u001b[0;34m\u001b[0m\u001b[0m\n\u001b[0m\u001b[1;32m    296\u001b[0m         \u001b[0;32mexcept\u001b[0m \u001b[0mCompilationError\u001b[0m \u001b[0;32mas\u001b[0m \u001b[0merror\u001b[0m\u001b[0;34m:\u001b[0m\u001b[0;34m\u001b[0m\u001b[0;34m\u001b[0m\u001b[0m\n\u001b[1;32m    297\u001b[0m             \u001b[0mprint\u001b[0m\u001b[0;34m(\u001b[0m\u001b[0;34m\"Compilation failed:\"\u001b[0m\u001b[0;34m,\u001b[0m \u001b[0mfile\u001b[0m\u001b[0;34m=\u001b[0m\u001b[0msys\u001b[0m\u001b[0;34m.\u001b[0m\u001b[0mstderr\u001b[0m\u001b[0;34m)\u001b[0m\u001b[0;34m\u001b[0m\u001b[0;34m\u001b[0m\u001b[0m\n",
      "\u001b[0;32m~/.local/lib/python3.6/site-packages/bokeh/util/compiler.py\u001b[0m in \u001b[0;36m_bundle_models\u001b[0;34m(custom_models)\u001b[0m\n\u001b[1;32m    506\u001b[0m             \u001b[0mknown_modules\u001b[0m\u001b[0;34m.\u001b[0m\u001b[0madd\u001b[0m\u001b[0;34m(\u001b[0m\u001b[0mcanonical\u001b[0m\u001b[0;34m)\u001b[0m\u001b[0;34m\u001b[0m\u001b[0;34m\u001b[0m\u001b[0m\n\u001b[1;32m    507\u001b[0m \u001b[0;34m\u001b[0m\u001b[0m\n\u001b[0;32m--> 508\u001b[0;31m     \u001b[0mcustom_impls\u001b[0m \u001b[0;34m=\u001b[0m \u001b[0m_compile_models\u001b[0m\u001b[0;34m(\u001b[0m\u001b[0mcustom_models\u001b[0m\u001b[0;34m)\u001b[0m\u001b[0;34m\u001b[0m\u001b[0;34m\u001b[0m\u001b[0m\n\u001b[0m\u001b[1;32m    509\u001b[0m \u001b[0;34m\u001b[0m\u001b[0m\n\u001b[1;32m    510\u001b[0m     \u001b[0mextra_modules\u001b[0m \u001b[0;34m=\u001b[0m \u001b[0;34m{\u001b[0m\u001b[0;34m}\u001b[0m\u001b[0;34m\u001b[0m\u001b[0;34m\u001b[0m\u001b[0m\n",
      "\u001b[0;32m~/.local/lib/python3.6/site-packages/bokeh/util/compiler.py\u001b[0m in \u001b[0;36m_compile_models\u001b[0;34m(custom_models)\u001b[0m\n\u001b[1;32m    483\u001b[0m         \u001b[0mcompiled\u001b[0m \u001b[0;34m=\u001b[0m \u001b[0m_CACHING_IMPLEMENTATION\u001b[0m\u001b[0;34m(\u001b[0m\u001b[0mmodel\u001b[0m\u001b[0;34m,\u001b[0m \u001b[0mimpl\u001b[0m\u001b[0;34m)\u001b[0m\u001b[0;34m\u001b[0m\u001b[0;34m\u001b[0m\u001b[0m\n\u001b[1;32m    484\u001b[0m         \u001b[0;32mif\u001b[0m \u001b[0mcompiled\u001b[0m \u001b[0;32mis\u001b[0m \u001b[0;32mNone\u001b[0m\u001b[0;34m:\u001b[0m\u001b[0;34m\u001b[0m\u001b[0;34m\u001b[0m\u001b[0m\n\u001b[0;32m--> 485\u001b[0;31m             \u001b[0mcompiled\u001b[0m \u001b[0;34m=\u001b[0m \u001b[0mnodejs_compile\u001b[0m\u001b[0;34m(\u001b[0m\u001b[0mimpl\u001b[0m\u001b[0;34m.\u001b[0m\u001b[0mcode\u001b[0m\u001b[0;34m,\u001b[0m \u001b[0mlang\u001b[0m\u001b[0;34m=\u001b[0m\u001b[0mimpl\u001b[0m\u001b[0;34m.\u001b[0m\u001b[0mlang\u001b[0m\u001b[0;34m,\u001b[0m \u001b[0mfile\u001b[0m\u001b[0;34m=\u001b[0m\u001b[0mimpl\u001b[0m\u001b[0;34m.\u001b[0m\u001b[0mfile\u001b[0m\u001b[0;34m)\u001b[0m\u001b[0;34m\u001b[0m\u001b[0;34m\u001b[0m\u001b[0m\n\u001b[0m\u001b[1;32m    486\u001b[0m \u001b[0;34m\u001b[0m\u001b[0m\n\u001b[1;32m    487\u001b[0m         \u001b[0;32mif\u001b[0m \u001b[0;34m\"error\"\u001b[0m \u001b[0;32min\u001b[0m \u001b[0mcompiled\u001b[0m\u001b[0;34m:\u001b[0m\u001b[0;34m\u001b[0m\u001b[0;34m\u001b[0m\u001b[0m\n",
      "\u001b[0;32m~/.local/lib/python3.6/site-packages/bokeh/util/compiler.py\u001b[0m in \u001b[0;36mnodejs_compile\u001b[0;34m(code, lang, file)\u001b[0m\n\u001b[1;32m     98\u001b[0m \u001b[0;32mdef\u001b[0m \u001b[0mnodejs_compile\u001b[0m\u001b[0;34m(\u001b[0m\u001b[0mcode\u001b[0m\u001b[0;34m,\u001b[0m \u001b[0mlang\u001b[0m\u001b[0;34m=\u001b[0m\u001b[0;34m\"javascript\"\u001b[0m\u001b[0;34m,\u001b[0m \u001b[0mfile\u001b[0m\u001b[0;34m=\u001b[0m\u001b[0;32mNone\u001b[0m\u001b[0;34m)\u001b[0m\u001b[0;34m:\u001b[0m\u001b[0;34m\u001b[0m\u001b[0;34m\u001b[0m\u001b[0m\n\u001b[1;32m     99\u001b[0m     \u001b[0mcompilejs_script\u001b[0m \u001b[0;34m=\u001b[0m \u001b[0mjoin\u001b[0m\u001b[0;34m(\u001b[0m\u001b[0mbokehjs_dir\u001b[0m\u001b[0;34m,\u001b[0m \u001b[0;34m\"js\"\u001b[0m\u001b[0;34m,\u001b[0m \u001b[0;34m\"compiler.js\"\u001b[0m\u001b[0;34m)\u001b[0m\u001b[0;34m\u001b[0m\u001b[0;34m\u001b[0m\u001b[0m\n\u001b[0;32m--> 100\u001b[0;31m     \u001b[0moutput\u001b[0m \u001b[0;34m=\u001b[0m \u001b[0m_run_nodejs\u001b[0m\u001b[0;34m(\u001b[0m\u001b[0;34m[\u001b[0m\u001b[0mcompilejs_script\u001b[0m\u001b[0;34m]\u001b[0m\u001b[0;34m,\u001b[0m \u001b[0mdict\u001b[0m\u001b[0;34m(\u001b[0m\u001b[0mcode\u001b[0m\u001b[0;34m=\u001b[0m\u001b[0mcode\u001b[0m\u001b[0;34m,\u001b[0m \u001b[0mlang\u001b[0m\u001b[0;34m=\u001b[0m\u001b[0mlang\u001b[0m\u001b[0;34m,\u001b[0m \u001b[0mfile\u001b[0m\u001b[0;34m=\u001b[0m\u001b[0mfile\u001b[0m\u001b[0;34m,\u001b[0m \u001b[0mbokehjs_dir\u001b[0m\u001b[0;34m=\u001b[0m\u001b[0mbokehjs_dir\u001b[0m\u001b[0;34m)\u001b[0m\u001b[0;34m)\u001b[0m\u001b[0;34m\u001b[0m\u001b[0;34m\u001b[0m\u001b[0m\n\u001b[0m\u001b[1;32m    101\u001b[0m     \u001b[0mlines\u001b[0m \u001b[0;34m=\u001b[0m \u001b[0moutput\u001b[0m\u001b[0;34m.\u001b[0m\u001b[0msplit\u001b[0m\u001b[0;34m(\u001b[0m\u001b[0;34m\"\\n\"\u001b[0m\u001b[0;34m)\u001b[0m\u001b[0;34m\u001b[0m\u001b[0;34m\u001b[0m\u001b[0m\n\u001b[1;32m    102\u001b[0m     \u001b[0;32mfor\u001b[0m \u001b[0mi\u001b[0m\u001b[0;34m,\u001b[0m \u001b[0mline\u001b[0m \u001b[0;32min\u001b[0m \u001b[0menumerate\u001b[0m\u001b[0;34m(\u001b[0m\u001b[0mlines\u001b[0m\u001b[0;34m)\u001b[0m\u001b[0;34m:\u001b[0m\u001b[0;34m\u001b[0m\u001b[0;34m\u001b[0m\u001b[0m\n",
      "\u001b[0;32m~/.local/lib/python3.6/site-packages/bokeh/util/compiler.py\u001b[0m in \u001b[0;36m_run_nodejs\u001b[0;34m(argv, input)\u001b[0m\n\u001b[1;32m    430\u001b[0m \u001b[0;34m\u001b[0m\u001b[0m\n\u001b[1;32m    431\u001b[0m \u001b[0;32mdef\u001b[0m \u001b[0m_run_nodejs\u001b[0m\u001b[0;34m(\u001b[0m\u001b[0margv\u001b[0m\u001b[0;34m,\u001b[0m \u001b[0minput\u001b[0m\u001b[0;34m=\u001b[0m\u001b[0;32mNone\u001b[0m\u001b[0;34m)\u001b[0m\u001b[0;34m:\u001b[0m\u001b[0;34m\u001b[0m\u001b[0;34m\u001b[0m\u001b[0m\n\u001b[0;32m--> 432\u001b[0;31m     \u001b[0;32mreturn\u001b[0m \u001b[0m_run\u001b[0m\u001b[0;34m(\u001b[0m\u001b[0m_nodejs_path\u001b[0m\u001b[0;34m(\u001b[0m\u001b[0;34m)\u001b[0m\u001b[0;34m,\u001b[0m \u001b[0margv\u001b[0m\u001b[0;34m,\u001b[0m \u001b[0minput\u001b[0m\u001b[0;34m)\u001b[0m\u001b[0;34m\u001b[0m\u001b[0;34m\u001b[0m\u001b[0m\n\u001b[0m\u001b[1;32m    433\u001b[0m \u001b[0;34m\u001b[0m\u001b[0m\n\u001b[1;32m    434\u001b[0m \u001b[0;32mdef\u001b[0m \u001b[0m_run_npmjs\u001b[0m\u001b[0;34m(\u001b[0m\u001b[0margv\u001b[0m\u001b[0;34m,\u001b[0m \u001b[0minput\u001b[0m\u001b[0;34m=\u001b[0m\u001b[0;32mNone\u001b[0m\u001b[0;34m)\u001b[0m\u001b[0;34m:\u001b[0m\u001b[0;34m\u001b[0m\u001b[0;34m\u001b[0m\u001b[0m\n",
      "\u001b[0;32m~/.local/lib/python3.6/site-packages/bokeh/util/compiler.py\u001b[0m in \u001b[0;36m_nodejs_path\u001b[0;34m()\u001b[0m\n\u001b[1;32m    406\u001b[0m     \u001b[0;32mglobal\u001b[0m \u001b[0m_nodejs\u001b[0m\u001b[0;34m\u001b[0m\u001b[0;34m\u001b[0m\u001b[0m\n\u001b[1;32m    407\u001b[0m     \u001b[0;32mif\u001b[0m \u001b[0m_nodejs\u001b[0m \u001b[0;32mis\u001b[0m \u001b[0;32mNone\u001b[0m\u001b[0;34m:\u001b[0m\u001b[0;34m\u001b[0m\u001b[0;34m\u001b[0m\u001b[0m\n\u001b[0;32m--> 408\u001b[0;31m         \u001b[0m_nodejs\u001b[0m \u001b[0;34m=\u001b[0m \u001b[0m_detect_nodejs\u001b[0m\u001b[0;34m(\u001b[0m\u001b[0;34m)\u001b[0m\u001b[0;34m\u001b[0m\u001b[0;34m\u001b[0m\u001b[0m\n\u001b[0m\u001b[1;32m    409\u001b[0m     \u001b[0;32mreturn\u001b[0m \u001b[0m_nodejs\u001b[0m\u001b[0;34m\u001b[0m\u001b[0;34m\u001b[0m\u001b[0m\n\u001b[1;32m    410\u001b[0m \u001b[0;34m\u001b[0m\u001b[0m\n",
      "\u001b[0;32m~/.local/lib/python3.6/site-packages/bokeh/util/compiler.py\u001b[0m in \u001b[0;36m_detect_nodejs\u001b[0;34m()\u001b[0m\n\u001b[1;32m    398\u001b[0m     \u001b[0mversion\u001b[0m \u001b[0;34m=\u001b[0m \u001b[0;34m\".\"\u001b[0m\u001b[0;34m.\u001b[0m\u001b[0mjoin\u001b[0m\u001b[0;34m(\u001b[0m\u001b[0mmap\u001b[0m\u001b[0;34m(\u001b[0m\u001b[0mstr\u001b[0m\u001b[0;34m,\u001b[0m \u001b[0mnodejs_min_version\u001b[0m\u001b[0;34m)\u001b[0m\u001b[0;34m)\u001b[0m\u001b[0;34m\u001b[0m\u001b[0;34m\u001b[0m\u001b[0m\n\u001b[1;32m    399\u001b[0m     raise RuntimeError('node.js v%s or higher is needed to allow compilation of custom models ' % version +\n\u001b[0;32m--> 400\u001b[0;31m                        '(\"conda install nodejs\" or follow https://nodejs.org/en/download/)')\n\u001b[0m\u001b[1;32m    401\u001b[0m \u001b[0;34m\u001b[0m\u001b[0m\n\u001b[1;32m    402\u001b[0m \u001b[0m_nodejs\u001b[0m \u001b[0;34m=\u001b[0m \u001b[0;32mNone\u001b[0m\u001b[0;34m\u001b[0m\u001b[0;34m\u001b[0m\u001b[0m\n",
      "\u001b[0;31mRuntimeError\u001b[0m: node.js v14.0.0 or higher is needed to allow compilation of custom models (\"conda install nodejs\" or follow https://nodejs.org/en/download/)"
     ]
    }
   ],
   "source": [
    "import numpy as np\n",
    "\n",
    "from bokeh.models import Label\n",
    "from bokeh.plotting import figure, show\n",
    "from bokeh.util.compiler import TypeScript\n",
    "\n",
    "TS_CODE = \"\"\"\n",
    "import * as p from \"core/properties\"\n",
    "import {Label, LabelView} from \"models/annotations/label\"\n",
    "declare const katex: any\n",
    "\n",
    "export class LatexLabelView extends LabelView {\n",
    "  model: LatexLabel\n",
    "\n",
    "  render(): void {\n",
    "    //--- Start of copied section from ``Label.render`` implementation\n",
    "\n",
    "    // Here because AngleSpec does units tranform and label doesn't support specs\n",
    "    let angle: number\n",
    "    switch (this.model.angle_units) {\n",
    "      case \"rad\": {\n",
    "        angle = -this.model.angle\n",
    "        break\n",
    "      }\n",
    "      case \"deg\": {\n",
    "        angle = (-this.model.angle * Math.PI) / 180.0\n",
    "        break\n",
    "      }\n",
    "      default:\n",
    "        throw new Error(\"unreachable code\")\n",
    "    }\n",
    "\n",
    "    const panel = this.panel != null ? this.panel : this.plot_view.frame\n",
    "\n",
    "    const xscale = this.plot_view.frame.xscales[this.model.x_range_name]\n",
    "    const yscale = this.plot_view.frame.yscales[this.model.y_range_name]\n",
    "\n",
    "    let sx = this.model.x_units == \"data\" ? xscale.compute(this.model.x) : panel.xview.compute(this.model.x)\n",
    "    let sy = this.model.y_units == \"data\" ? yscale.compute(this.model.y) : panel.yview.compute(this.model.y)\n",
    "\n",
    "    sx += this.model.x_offset\n",
    "    sy -= this.model.y_offset\n",
    "\n",
    "    //--- End of copied section from ``Label.render`` implementation\n",
    "    // Must render as superpositioned div (not on canvas) so that KaTex\n",
    "    // css can properly style the text\n",
    "    this._css_text(this.plot_view.canvas_view.ctx, \"\", sx, sy, angle)\n",
    "\n",
    "    // ``katex`` is loaded into the global window at runtime\n",
    "    // katex.renderToString returns a html ``span`` element\n",
    "    katex.render(this.model.text, this.el, {displayMode: true})\n",
    "  }\n",
    "}\n",
    "\n",
    "export namespace LatexLabel {\n",
    "  export type Attrs = p.AttrsOf<Props>\n",
    "\n",
    "  export type Props = Label.Props\n",
    "}\n",
    "\n",
    "export interface LatexLabel extends LatexLabel.Attrs {}\n",
    "\n",
    "export class LatexLabel extends Label {\n",
    "  properties: LatexLabel.Props\n",
    "\n",
    "  constructor(attrs?: Partial<LatexLabel.Attrs>) {\n",
    "    super(attrs)\n",
    "  }\n",
    "\n",
    "  static initClass() {\n",
    "    this.prototype.default_view = LatexLabelView\n",
    "  }\n",
    "}\n",
    "LatexLabel.initClass()\n",
    "\"\"\"\n",
    "\n",
    "\n",
    "class LatexLabel(Label):\n",
    "    \"\"\"A subclass of the Bokeh built-in `Label` that supports rendering\n",
    "    LaTex using the KaTex typesetting library.\n",
    "\n",
    "    Only the render method of LabelView is overloaded to perform the\n",
    "    text -> latex (via katex) conversion. Note: ``render_mode=\"canvas``\n",
    "    isn't supported and certain DOM manipulation happens in the Label\n",
    "    superclass implementation that requires explicitly setting\n",
    "    `render_mode='css'`).\n",
    "    \"\"\"\n",
    "    __javascript__ = [\"https://cdnjs.cloudflare.com/ajax/libs/KaTeX/0.6.0/katex.min.js\"]\n",
    "    __css__ = [\"https://cdnjs.cloudflare.com/ajax/libs/KaTeX/0.6.0/katex.min.css\"]\n",
    "    __implementation__ = TypeScript(TS_CODE)\n",
    "\n",
    "\n",
    "x = np.arange(0.0, 1.0 + 0.01, 0.01)\n",
    "y = np.cos(2 * 2 * np.pi * x) + 2\n",
    "\n",
    "p = figure(title=\"LaTex Demonstration\", plot_width=500, plot_height=500)\n",
    "p.line(x, y)\n",
    "\n",
    "# Note: must set ``render_mode=\"css\"``\n",
    "latex = LatexLabel(text=\"f = \\sum_{n=1}^\\infty\\\\frac{-e^{i\\pi}}{2^n}!\",\n",
    "                   x=40, y=420, x_units='screen', y_units='screen',\n",
    "                   render_mode='css', text_font_size='16pt',\n",
    "                   background_fill_alpha=0)\n",
    "\n",
    "p.add_layout(latex)\n",
    "\n",
    "show(p)"
   ]
  },
  {
   "cell_type": "markdown",
   "id": "shaped-macedonia",
   "metadata": {},
   "source": [
    "## Generate plots"
   ]
  }
 ],
 "metadata": {
  "kernelspec": {
   "display_name": "Python 3",
   "language": "python",
   "name": "python3"
  },
  "language_info": {
   "codemirror_mode": {
    "name": "ipython",
    "version": 3
   },
   "file_extension": ".py",
   "mimetype": "text/x-python",
   "name": "python",
   "nbconvert_exporter": "python",
   "pygments_lexer": "ipython3",
   "version": "3.6.9"
  }
 },
 "nbformat": 4,
 "nbformat_minor": 5
}
