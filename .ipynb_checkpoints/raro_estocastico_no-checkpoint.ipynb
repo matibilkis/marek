{
 "cells": [
  {
   "cell_type": "code",
   "execution_count": 1,
   "metadata": {},
   "outputs": [],
   "source": [
    "import numpy as np\n"
   ]
  },
  {
   "cell_type": "code",
   "execution_count": 3,
   "metadata": {},
   "outputs": [],
   "source": [
    "d = np.load(\"locallearning_curves.npy\",allow_pickle=True)"
   ]
  },
  {
   "cell_type": "code",
   "execution_count": 4,
   "metadata": {},
   "outputs": [
    {
     "name": "stdout",
     "output_type": "stream",
     "text": [
      "[   1.    2.    3.    4.    5.    6.    7.    8.    9.   10.   11.   12.\n",
      "   13.   14.   15.   16.   17.   18.   19.   20.   21.   22.   23.   24.\n",
      "   25.   26.   27.   28.   29.   30.   31.   32.   33.   34.   35.   36.\n",
      "   37.   38.   39.   40.   41.   42.   43.   44.   45.   46.   47.   48.\n",
      "   49.   50.   51.   52.   53.   54.   55.   56.   57.   58.   59.   60.\n",
      "   61.   62.   63.   64.   65.   66.   67.   68.   69.   70.   71.   72.\n",
      "   73.   74.   75.   76.   77.   78.   79.   80.   81.   82.   83.   84.\n",
      "   85.   86.   87.   88.   89.   90.   91.   92.   93.   94.   95.   96.\n",
      "   97.   98.   99.  100.  101.  102.  103.  104.  105.  106.  107.  108.\n",
      "  109.  110.  111.  112.  113.  114.  115.  116.  117.  118.  119.  120.\n",
      "  121.  122.  123.  124.  125.  126.  127.  128.  129.  130.  131.  132.\n",
      "  133.  134.  135.  136.  137.  138.  139.  140.  141.  142.  143.  144.\n",
      "  145.  146.  147.  148.  149.  150.  151.  152.  153.  154.  155.  156.\n",
      "  157.  158.  159.  160.  161.  162.  163.  164.  165.  166.  167.  168.\n",
      "  169.  170.  171.  172.  173.  174.  175.  176.  177.  178.  179.  180.\n",
      "  181.  182.  183.  184.  185.  186.  187.  188.  189.  190.  191.  192.\n",
      "  193.  194.  195.  196.  197.  198.  199.  200.  201.  202.  203.  204.\n",
      "  205.  206.  207.  208.  209.  210.  211.  212.  213.  214.  215.  216.\n",
      "  217.  218.  219.  220.  221.  222.  223.  224.  225.  226.  227.  228.\n",
      "  229.  230.  231.  232.  233.  234.  235.  236.  237.  238.  239.  240.\n",
      "  241.  242.  243.  244.  245.  246.  247.  248.  249.  250.  251.  252.\n",
      "  253.  254.  255.  256.  257.  258.  259.  260.  261.  262.  263.  264.\n",
      "  265.  266.  267.  268.  269.  270.  271.  272.  273.  274.  275.  276.\n",
      "  277.  278.  279.  280.  281.  282.  283.  284.  285.  286.  287.  288.\n",
      "  289.  290.  291.  292.  293.  294.  295.  296.  297.  298.  299.  300.\n",
      "  301.  302.  303.  304.  305.  306.  307.  308.  309.  310.  311.  312.\n",
      "  313.  314.  315.  316.  317.  318.  319.  320.  321.  322.  323.  324.\n",
      "  325.  326.  327.  328.  329.  330.  331.  332.  333.  334.  335.  336.\n",
      "  337.  338.  339.  340.  341.  342.  343.  344.  345.  346.  347.  348.\n",
      "  349.  350.  351.  352.  353.  354.  355.  356.  357.  358.  359.  360.\n",
      "  361.  362.  363.  364.  365.  366.  367.  368.  369.  370.  371.  372.\n",
      "  373.  374.  375.  376.  377.  378.  379.  380.  381.  382.  383.  384.\n",
      "  385.  386.  387.  388.  389.  390.  391.  392.  393.  394.  395.  396.\n",
      "  397.  398.  399.  400.  401.  402.  403.  404.  405.  406.  407.  408.\n",
      "  409.  410.  411.  412.  413.  414.  415.  416.  417.  418.  419.  420.\n",
      "  421.  422.  423.  424.  425.  426.  427.  428.  429.  430.  431.  432.\n",
      "  433.  434.  435.  436.  437.  438.  439.  440.  441.  442.  443.  444.\n",
      "  445.  446.  447.  448.  449.  450.  451.  452.  453.  454.  455.  456.\n",
      "  457.  458.  459.  460.  461.  462.  463.  464.  465.  466.  467.  468.\n",
      "  469.  470.  471.  472.  473.  474.  475.  476.  477.  478.  479.  480.\n",
      "  481.  482.  483.  484.  485.  486.  487.  488.  489.  490.  491.  492.\n",
      "  493.  494.  495.  496.  497.  498.  499.  500.  501.  502.  503.  504.\n",
      "  505.  506.  507.  508.  509.  510.  511.  512.  513.  514.  515.  516.\n",
      "  517.  518.  519.  520.  521.  522.  523.  524.  525.  526.  527.  528.\n",
      "  529.  530.  531.  532.  533.  534.  535.  536.  537.  538.  539.  540.\n",
      "  541.  542.  543.  544.  545.  546.  547.  548.  549.  550.  551.  552.\n",
      "  553.  554.  555.  556.  557.  558.  559.  560.  561.  562.  563.  564.\n",
      "  565.  566.  567.  568.  569.  570.  571.  572.  573.  574.  575.  576.\n",
      "  577.  578.  579.  580.  581.  582.  583.  584.  585.  586.  587.  588.\n",
      "  589.  590.  591.  592.  593.  594.  595.  596.  597.  598.  599.  600.\n",
      "  601.  602.  603.  604.  605.  606.  607.  608.  609.  610.  611.  612.\n",
      "  613.  614.  615.  616.  617.  618.  619.  620.  621.  622.  623.  624.\n",
      "  625.  626.  627.  628.  629.  630.  631.  632.  633.  634.  635.  636.\n",
      "  637.  638.  639.  640.  641.  642.  643.  644.  645.  646.  647.  648.\n",
      "  649.  650.  651.  652.  653.  654.  655.  656.  657.  658.  659.  660.\n",
      "  661.  662.  663.  664.  665.  666.  667.  668.  669.  670.  671.  672.\n",
      "  673.  674.  675.  676.  677.  678.  679.  680.  681.  682.  683.  684.\n",
      "  685.  686.  687.  688.  689.  690.  691.  692.  693.  694.  695.  696.\n",
      "  697.  698.  699.  700.  701.  702.  703.  704.  705.  706.  707.  708.\n",
      "  709.  710.  711.  712.  713.  714.  715.  716.  717.  718.  719.  720.\n",
      "  721.  722.  723.  724.  725.  726.  727.  728.  729.  730.  731.  732.\n",
      "  733.  734.  735.  736.  737.  738.  739.  740.  741.  742.  743.  744.\n",
      "  745.  746.  747.  748.  749.  750.  751.  752.  753.  754.  755.  756.\n",
      "  757.  758.  759.  760.  761.  762.  763.  764.  765.  766.  767.  768.\n",
      "  769.  770.  771.  772.  773.  774.  775.  776.  777.  778.  779.  780.\n",
      "  781.  782.  783.  784.  785.  786.  787.  788.  789.  790.  791.  792.\n",
      "  793.  794.  795.  796.  797.  798.  799.  800.  801.  802.  803.  804.\n",
      "  805.  806.  807.  808.  809.  810.  811.  812.  813.  814.  815.  816.\n",
      "  817.  818.  819.  820.  821.  822.  823.  824.  825.  826.  827.  828.\n",
      "  829.  830.  831.  832.  833.  834.  835.  836.  837.  838.  839.  840.\n",
      "  841.  842.  843.  844.  845.  846.  847.  848.  849.  850.  851.  852.\n",
      "  853.  854.  855.  856.  857.  858.  859.  860.  861.  862.  863.  864.\n",
      "  865.  866.  867.  868.  869.  870.  871.  872.  873.  874.  875.  876.\n",
      "  877.  878.  879.  880.  881.  882.  883.  884.  885.  886.  887.  888.\n",
      "  889.  890.  891.  892.  893.  894.  895.  896.  897.  898.  899.  900.\n",
      "  901.  902.  903.  904.  905.  906.  907.  908.  909.  910.  911.  912.\n",
      "  913.  914.  915.  916.  917.  918.  919.  920.  921.  922.  923.  924.\n",
      "  925.  926.  927.  928.  929.  930.  931.  932.  933.  934.  935.  936.\n",
      "  937.  938.  939.  940.  941.  942.  943.  944.  945.  946.  947.  948.\n",
      "  949.  950.  951.  952.  953.  954.  955.  956.  957.  958.  959.  960.\n",
      "  961.  962.  963.  964.  965.  966.  967.  968.  969.  970.  971.  972.\n",
      "  973.  974.  975.  976.  977.  978.  979.  980.  981.  982.  983.  984.\n",
      "  985.  986.  987.  988.  989.  990.  991.  992.  993.  994.  995.  996.\n",
      "  997.  998.  999. 1000.]\n"
     ]
    }
   ],
   "source": [
    "print(d[0])"
   ]
  },
  {
   "cell_type": "code",
   "execution_count": 30,
   "metadata": {},
   "outputs": [],
   "source": [
    "d11=np.load(\"2L2PH0.1R/run_1/learning_curves.npy\",allow_pickle=True)\n",
    "d21=np.load(\"2L2PH0.1R/run_2/learning_curves.npy\",allow_pickle=True)"
   ]
  },
  {
   "cell_type": "code",
   "execution_count": 26,
   "metadata": {},
   "outputs": [],
   "source": [
    "import matplotlib.pyplot as plt"
   ]
  },
  {
   "cell_type": "code",
   "execution_count": 27,
   "metadata": {},
   "outputs": [
    {
     "data": {
      "text/plain": [
       "[<matplotlib.lines.Line2D at 0x7f3cec2fb978>]"
      ]
     },
     "execution_count": 27,
     "metadata": {},
     "output_type": "execute_result"
    },
    {
     "data": {
      "image/png": "[encoded data removed]",
      "text/plain": [
       "<Figure size 432x288 with 1 Axes>"
      ]
     },
     "metadata": {},
     "output_type": "display_data"
    }
   ],
   "source": [
    "plt.plot(d1[1] - d2[1])"
   ]
  },
  {
   "cell_type": "code",
   "execution_count": 28,
   "metadata": {},
   "outputs": [],
   "source": [
    "d1=np.load(\"2L2PH0.1R/run_3/learning_curves.npy\",allow_pickle=True)\n",
    "d2=np.load(\"2L2PH0.1R/run_4/learning_curves.npy\",allow_pickle=True)"
   ]
  },
  {
   "cell_type": "code",
   "execution_count": 32,
   "metadata": {},
   "outputs": [
    {
     "data": {
      "text/plain": [
       "[<matplotlib.lines.Line2D at 0x7f3cec257908>]"
      ]
     },
     "execution_count": 32,
     "metadata": {},
     "output_type": "execute_result"
    },
    {
     "data": {
      "image/png": "[encoded data removed]",
      "text/plain": [
       "<Figure size 432x288 with 1 Axes>"
      ]
     },
     "metadata": {},
     "output_type": "display_data"
    }
   ],
   "source": [
    "plt.plot((d11[1]-d21[1])- (d1[1] - d2[1]))"
   ]
  },
  {
   "cell_type": "code",
   "execution_count": 34,
   "metadata": {},
   "outputs": [
    {
     "data": {
      "text/plain": [
       "array([ 0.00000000e+00,  0.00000000e+00,  0.00000000e+00,  0.00000000e+00,\n",
       "        0.00000000e+00,  0.00000000e+00,  0.00000000e+00,  0.00000000e+00,\n",
       "        0.00000000e+00,  0.00000000e+00,  0.00000000e+00,  0.00000000e+00,\n",
       "        0.00000000e+00,  0.00000000e+00,  0.00000000e+00,  0.00000000e+00,\n",
       "        0.00000000e+00,  0.00000000e+00,  0.00000000e+00,  0.00000000e+00,\n",
       "        0.00000000e+00,  0.00000000e+00,  0.00000000e+00,  0.00000000e+00,\n",
       "        0.00000000e+00,  0.00000000e+00,  0.00000000e+00,  0.00000000e+00,\n",
       "        0.00000000e+00,  0.00000000e+00,  0.00000000e+00,  0.00000000e+00,\n",
       "        0.00000000e+00,  0.00000000e+00,  0.00000000e+00,  0.00000000e+00,\n",
       "        0.00000000e+00,  0.00000000e+00,  0.00000000e+00,  0.00000000e+00,\n",
       "        0.00000000e+00,  0.00000000e+00,  0.00000000e+00,  0.00000000e+00,\n",
       "        0.00000000e+00,  0.00000000e+00,  0.00000000e+00,  0.00000000e+00,\n",
       "        0.00000000e+00,  0.00000000e+00,  0.00000000e+00,  0.00000000e+00,\n",
       "        0.00000000e+00,  0.00000000e+00,  0.00000000e+00,  0.00000000e+00,\n",
       "        0.00000000e+00,  0.00000000e+00,  0.00000000e+00,  0.00000000e+00,\n",
       "        0.00000000e+00,  0.00000000e+00,  0.00000000e+00,  0.00000000e+00,\n",
       "        0.00000000e+00,  0.00000000e+00,  0.00000000e+00,  0.00000000e+00,\n",
       "        0.00000000e+00,  0.00000000e+00,  0.00000000e+00,  0.00000000e+00,\n",
       "        0.00000000e+00,  0.00000000e+00,  0.00000000e+00,  0.00000000e+00,\n",
       "        0.00000000e+00,  0.00000000e+00,  0.00000000e+00,  0.00000000e+00,\n",
       "        0.00000000e+00,  0.00000000e+00,  0.00000000e+00,  0.00000000e+00,\n",
       "        0.00000000e+00,  0.00000000e+00,  0.00000000e+00,  0.00000000e+00,\n",
       "        0.00000000e+00,  0.00000000e+00,  0.00000000e+00,  0.00000000e+00,\n",
       "        0.00000000e+00,  0.00000000e+00,  0.00000000e+00,  0.00000000e+00,\n",
       "        0.00000000e+00,  0.00000000e+00,  0.00000000e+00,  0.00000000e+00,\n",
       "        0.00000000e+00,  0.00000000e+00,  0.00000000e+00,  0.00000000e+00,\n",
       "        0.00000000e+00,  0.00000000e+00,  0.00000000e+00,  0.00000000e+00,\n",
       "        0.00000000e+00,  0.00000000e+00,  0.00000000e+00,  0.00000000e+00,\n",
       "        0.00000000e+00,  0.00000000e+00,  0.00000000e+00,  0.00000000e+00,\n",
       "        0.00000000e+00,  0.00000000e+00,  0.00000000e+00,  0.00000000e+00,\n",
       "        0.00000000e+00,  0.00000000e+00,  0.00000000e+00,  0.00000000e+00,\n",
       "        0.00000000e+00,  0.00000000e+00,  0.00000000e+00,  0.00000000e+00,\n",
       "        0.00000000e+00,  0.00000000e+00,  0.00000000e+00,  0.00000000e+00,\n",
       "        0.00000000e+00,  0.00000000e+00,  0.00000000e+00,  0.00000000e+00,\n",
       "        0.00000000e+00,  0.00000000e+00,  0.00000000e+00,  0.00000000e+00,\n",
       "        0.00000000e+00,  0.00000000e+00,  0.00000000e+00,  0.00000000e+00,\n",
       "        0.00000000e+00,  0.00000000e+00,  0.00000000e+00,  0.00000000e+00,\n",
       "        0.00000000e+00,  0.00000000e+00,  0.00000000e+00,  0.00000000e+00,\n",
       "        0.00000000e+00,  0.00000000e+00,  0.00000000e+00,  0.00000000e+00,\n",
       "        0.00000000e+00,  0.00000000e+00,  0.00000000e+00,  0.00000000e+00,\n",
       "        0.00000000e+00,  0.00000000e+00,  0.00000000e+00,  0.00000000e+00,\n",
       "        0.00000000e+00,  0.00000000e+00,  0.00000000e+00,  0.00000000e+00,\n",
       "        0.00000000e+00,  0.00000000e+00,  0.00000000e+00,  0.00000000e+00,\n",
       "        0.00000000e+00,  0.00000000e+00,  0.00000000e+00,  0.00000000e+00,\n",
       "        0.00000000e+00,  0.00000000e+00,  0.00000000e+00,  0.00000000e+00,\n",
       "        0.00000000e+00,  0.00000000e+00,  0.00000000e+00,  0.00000000e+00,\n",
       "        0.00000000e+00,  0.00000000e+00,  0.00000000e+00,  0.00000000e+00,\n",
       "        0.00000000e+00,  0.00000000e+00,  0.00000000e+00,  0.00000000e+00,\n",
       "        0.00000000e+00,  0.00000000e+00,  0.00000000e+00,  0.00000000e+00,\n",
       "        0.00000000e+00,  0.00000000e+00,  0.00000000e+00,  0.00000000e+00,\n",
       "        0.00000000e+00,  0.00000000e+00,  0.00000000e+00,  0.00000000e+00,\n",
       "        0.00000000e+00,  0.00000000e+00,  0.00000000e+00,  0.00000000e+00,\n",
       "        0.00000000e+00,  0.00000000e+00,  0.00000000e+00,  0.00000000e+00,\n",
       "        0.00000000e+00,  0.00000000e+00,  0.00000000e+00,  0.00000000e+00,\n",
       "        0.00000000e+00,  0.00000000e+00,  0.00000000e+00,  0.00000000e+00,\n",
       "        0.00000000e+00,  0.00000000e+00,  0.00000000e+00,  0.00000000e+00,\n",
       "        0.00000000e+00,  0.00000000e+00,  0.00000000e+00,  0.00000000e+00,\n",
       "        0.00000000e+00,  0.00000000e+00,  0.00000000e+00,  0.00000000e+00,\n",
       "        0.00000000e+00,  0.00000000e+00,  0.00000000e+00,  0.00000000e+00,\n",
       "        0.00000000e+00,  0.00000000e+00,  0.00000000e+00,  0.00000000e+00,\n",
       "        0.00000000e+00,  0.00000000e+00,  0.00000000e+00,  0.00000000e+00,\n",
       "        0.00000000e+00,  0.00000000e+00,  0.00000000e+00,  0.00000000e+00,\n",
       "        0.00000000e+00,  0.00000000e+00,  0.00000000e+00,  0.00000000e+00,\n",
       "        0.00000000e+00,  0.00000000e+00,  0.00000000e+00,  0.00000000e+00,\n",
       "        0.00000000e+00,  0.00000000e+00,  0.00000000e+00,  0.00000000e+00,\n",
       "        0.00000000e+00,  0.00000000e+00,  0.00000000e+00,  0.00000000e+00,\n",
       "        0.00000000e+00,  0.00000000e+00,  0.00000000e+00,  0.00000000e+00,\n",
       "        0.00000000e+00,  0.00000000e+00,  0.00000000e+00,  0.00000000e+00,\n",
       "        0.00000000e+00,  0.00000000e+00,  0.00000000e+00,  0.00000000e+00,\n",
       "        0.00000000e+00,  0.00000000e+00,  0.00000000e+00,  0.00000000e+00,\n",
       "        0.00000000e+00,  0.00000000e+00,  0.00000000e+00,  0.00000000e+00,\n",
       "        0.00000000e+00,  0.00000000e+00,  0.00000000e+00,  0.00000000e+00,\n",
       "        0.00000000e+00,  0.00000000e+00,  0.00000000e+00,  0.00000000e+00,\n",
       "        0.00000000e+00,  0.00000000e+00,  0.00000000e+00,  0.00000000e+00,\n",
       "        0.00000000e+00,  0.00000000e+00,  0.00000000e+00,  0.00000000e+00,\n",
       "        0.00000000e+00,  0.00000000e+00,  0.00000000e+00,  0.00000000e+00,\n",
       "        0.00000000e+00,  0.00000000e+00,  0.00000000e+00,  0.00000000e+00,\n",
       "        0.00000000e+00,  0.00000000e+00,  0.00000000e+00,  0.00000000e+00,\n",
       "        0.00000000e+00,  0.00000000e+00,  0.00000000e+00,  0.00000000e+00,\n",
       "        0.00000000e+00,  0.00000000e+00,  0.00000000e+00,  0.00000000e+00,\n",
       "        0.00000000e+00,  0.00000000e+00,  0.00000000e+00,  0.00000000e+00,\n",
       "        0.00000000e+00,  0.00000000e+00,  0.00000000e+00,  0.00000000e+00,\n",
       "        0.00000000e+00,  0.00000000e+00,  0.00000000e+00,  0.00000000e+00,\n",
       "        0.00000000e+00,  0.00000000e+00,  0.00000000e+00,  0.00000000e+00,\n",
       "        0.00000000e+00,  0.00000000e+00,  0.00000000e+00,  0.00000000e+00,\n",
       "        0.00000000e+00,  0.00000000e+00,  0.00000000e+00,  0.00000000e+00,\n",
       "        0.00000000e+00,  0.00000000e+00,  0.00000000e+00,  0.00000000e+00,\n",
       "        0.00000000e+00,  0.00000000e+00,  0.00000000e+00,  0.00000000e+00,\n",
       "        0.00000000e+00,  0.00000000e+00,  0.00000000e+00,  0.00000000e+00,\n",
       "        0.00000000e+00,  0.00000000e+00,  0.00000000e+00,  0.00000000e+00,\n",
       "        0.00000000e+00,  0.00000000e+00,  0.00000000e+00,  0.00000000e+00,\n",
       "        0.00000000e+00,  0.00000000e+00,  0.00000000e+00,  0.00000000e+00,\n",
       "        0.00000000e+00,  0.00000000e+00,  0.00000000e+00,  0.00000000e+00,\n",
       "        0.00000000e+00,  0.00000000e+00,  0.00000000e+00,  0.00000000e+00,\n",
       "        0.00000000e+00,  0.00000000e+00,  0.00000000e+00,  0.00000000e+00,\n",
       "        0.00000000e+00,  0.00000000e+00,  0.00000000e+00,  0.00000000e+00,\n",
       "        0.00000000e+00,  0.00000000e+00,  0.00000000e+00,  0.00000000e+00,\n",
       "        0.00000000e+00,  0.00000000e+00,  0.00000000e+00,  0.00000000e+00,\n",
       "        0.00000000e+00,  0.00000000e+00,  0.00000000e+00,  0.00000000e+00,\n",
       "        0.00000000e+00,  0.00000000e+00,  0.00000000e+00,  0.00000000e+00,\n",
       "        0.00000000e+00,  0.00000000e+00,  0.00000000e+00,  0.00000000e+00,\n",
       "        0.00000000e+00,  0.00000000e+00,  0.00000000e+00,  0.00000000e+00,\n",
       "        0.00000000e+00,  0.00000000e+00,  0.00000000e+00,  0.00000000e+00,\n",
       "        0.00000000e+00,  0.00000000e+00,  0.00000000e+00,  0.00000000e+00,\n",
       "        0.00000000e+00,  0.00000000e+00,  0.00000000e+00,  0.00000000e+00,\n",
       "        0.00000000e+00,  0.00000000e+00,  0.00000000e+00,  0.00000000e+00,\n",
       "        0.00000000e+00,  0.00000000e+00,  0.00000000e+00,  0.00000000e+00,\n",
       "        0.00000000e+00,  0.00000000e+00,  0.00000000e+00,  0.00000000e+00,\n",
       "        0.00000000e+00,  0.00000000e+00,  0.00000000e+00,  0.00000000e+00,\n",
       "        0.00000000e+00,  0.00000000e+00,  0.00000000e+00,  0.00000000e+00,\n",
       "        0.00000000e+00,  0.00000000e+00,  0.00000000e+00,  0.00000000e+00,\n",
       "        0.00000000e+00,  0.00000000e+00,  0.00000000e+00,  0.00000000e+00,\n",
       "        0.00000000e+00,  0.00000000e+00,  0.00000000e+00,  0.00000000e+00,\n",
       "        0.00000000e+00,  0.00000000e+00,  0.00000000e+00,  0.00000000e+00,\n",
       "        0.00000000e+00,  0.00000000e+00,  0.00000000e+00,  0.00000000e+00,\n",
       "        0.00000000e+00,  0.00000000e+00,  0.00000000e+00,  0.00000000e+00,\n",
       "        0.00000000e+00,  0.00000000e+00,  0.00000000e+00,  0.00000000e+00,\n",
       "        0.00000000e+00,  0.00000000e+00,  0.00000000e+00,  0.00000000e+00,\n",
       "        0.00000000e+00,  0.00000000e+00,  0.00000000e+00,  0.00000000e+00,\n",
       "        0.00000000e+00,  0.00000000e+00,  0.00000000e+00,  0.00000000e+00,\n",
       "        3.47059074e-03,  4.91449323e-04, -6.57987847e-03, -2.92193088e-03,\n",
       "        0.00000000e+00,  1.23819731e-02, -2.27412459e-05,  1.75080966e-03,\n",
       "        6.19884832e-03,  2.35874937e-02,  1.08891181e-02,  3.66352132e-02,\n",
       "        2.92182356e-02, -6.10291044e-03,  2.14866229e-03,  2.83729572e-02,\n",
       "       -2.57414283e-02, -1.70351995e-02, -3.01438521e-02, -2.65835190e-03,\n",
       "       -1.13025391e-03, -1.14587710e-02, -6.57987847e-03,  4.65862919e-02,\n",
       "       -2.77467476e-03, -3.16674168e-03, -1.04319149e-02,  1.98094009e-02,\n",
       "        6.66241229e-03, -8.34584881e-03,  7.95293090e-03,  3.73673570e-02,\n",
       "       -3.21180761e-02, -2.91317391e-02, -2.78936070e-03,  3.30684768e-02,\n",
       "        2.32957088e-02,  3.60121591e-03, -2.24353993e-02, -7.96523107e-03,\n",
       "        2.76151126e-02, -3.12079453e-02,  1.37223007e-02, -9.05078555e-02,\n",
       "       -4.33737243e-02, -4.73806665e-02,  1.24206840e-03, -2.67090016e-02,\n",
       "       -4.31626851e-02, -2.01820293e-02,  5.25530537e-03,  1.50909246e-02,\n",
       "        2.58304216e-02, -5.34831309e-02,  2.71989936e-02, -8.71260459e-03,\n",
       "        3.61569275e-02,  6.86475252e-03,  5.62329478e-02,  4.88426861e-02,\n",
       "        7.57984705e-02, -4.24946279e-02,  2.66832622e-03, -2.21559949e-02,\n",
       "        5.67891821e-03,  4.50049649e-03, -2.86642421e-02,  4.50592604e-02,\n",
       "        4.54404477e-03, -3.77245204e-02, -1.99071739e-02,  6.17278995e-02,\n",
       "       -7.37399729e-02, -3.53717709e-02, -2.47492392e-02,  7.01978725e-03,\n",
       "       -5.73967695e-03, -4.03115401e-02, -5.78645598e-02, -4.55522842e-02,\n",
       "       -5.96418485e-03,  2.33172063e-03, -3.93386943e-03,  4.33514693e-02,\n",
       "        1.50467051e-02, -5.69869163e-02, -2.75786502e-02, -4.45136478e-04,\n",
       "       -2.66664359e-02,  6.00598581e-03, -3.18610467e-02, -3.92154267e-03,\n",
       "       -5.43541728e-03, -3.57218309e-02, -1.90602355e-02,  2.09891465e-02,\n",
       "       -2.98368172e-03,  4.32267180e-02, -6.10262130e-03, -7.08841351e-02,\n",
       "        5.81033273e-03, -4.57198878e-02, -2.85701884e-02, -4.86207608e-02,\n",
       "       -5.44983275e-02, -1.61494880e-02, -5.41794300e-03, -3.11753940e-02,\n",
       "       -4.07881906e-02, -4.09170121e-02, -4.69901830e-02, -1.31367142e-02,\n",
       "        3.52575081e-03, -2.61644351e-02, -6.15820414e-03, -1.08634402e-02,\n",
       "       -1.86375438e-02,  1.58255467e-02, -1.18637365e-02,  6.17423530e-03,\n",
       "       -3.63745492e-02, -4.57875058e-02, -2.97223303e-02, -2.46338690e-02,\n",
       "       -7.07789427e-02, -1.44753800e-02, -3.90183046e-03, -7.96814535e-02,\n",
       "       -4.82569803e-02, -3.66255256e-02, -1.60742385e-02,  1.54211890e-02,\n",
       "        1.16044648e-02,  1.42848618e-03, -4.41988607e-02, -1.44542084e-02,\n",
       "       -4.19330196e-02, -1.90254231e-03, -5.53799878e-02, -6.61527748e-02,\n",
       "       -2.04132417e-02, -3.88386726e-02, -4.77361109e-02,  5.04596998e-02,\n",
       "        7.91217653e-03, -8.47029853e-02, -7.63292228e-02, -4.05438115e-02,\n",
       "       -6.19234326e-02, -1.33770949e-03, -3.71502125e-02, -5.11094665e-02,\n",
       "       -9.81364933e-02, -9.37696114e-02, -5.31600424e-02, -2.49509478e-02,\n",
       "       -3.50694760e-02, -7.32250107e-02, -9.90600609e-02, -4.46201169e-02,\n",
       "       -1.72486175e-02, -8.11910386e-02, -5.52922408e-02, -8.00251219e-02,\n",
       "       -8.44994309e-02, -5.04995170e-02, -4.79308943e-02, -6.24734893e-02,\n",
       "       -4.07171350e-02, -4.68875852e-02, -4.20114090e-02, -3.43190353e-02,\n",
       "       -4.71977019e-02, -5.58032640e-02, -1.79798452e-02, -5.79466210e-03,\n",
       "       -3.24919463e-02, -3.59143770e-02, -5.03050546e-02, -6.42352392e-02,\n",
       "       -4.68235656e-02, -2.64084937e-02, -1.84175709e-02, -5.77043590e-02,\n",
       "       -6.14012337e-02, -1.98929979e-02, -3.86754170e-02, -2.17134343e-02,\n",
       "       -7.06842323e-04, -1.87259762e-02, -4.57477370e-02, -1.93293093e-02,\n",
       "       -5.55776660e-03,  1.62462412e-02, -3.10009811e-02, -3.17252172e-02,\n",
       "       -3.86799929e-02, -3.15608119e-03, -3.16154152e-02, -8.85816176e-03,\n",
       "        2.06628675e-02,  1.12709101e-03, -5.64328042e-03,  1.06332100e-02,\n",
       "        5.19441084e-03, -4.72789152e-03, -1.86372377e-02, -2.99884491e-02,\n",
       "       -1.42568388e-02, -6.50276257e-03, -1.09726650e-02, -2.49301772e-02,\n",
       "       -2.43943800e-02, -2.06309073e-03,  1.68061199e-02, -1.27164743e-03,\n",
       "       -2.52564092e-02, -1.63765475e-02, -6.23105491e-03, -2.68359047e-02,\n",
       "       -1.23883818e-02, -1.71622463e-02, -2.37075753e-02, -6.66546199e-02,\n",
       "       -1.84728875e-02, -5.44946181e-02, -4.33865609e-02, -5.43670530e-02,\n",
       "       -5.44065519e-02, -3.92180259e-02, -4.24636108e-02, -4.21774203e-02,\n",
       "       -2.03940187e-02, -2.69994002e-02,  1.43958212e-04, -4.40072624e-02,\n",
       "        3.77153910e-03, -3.38647350e-02, -1.82789009e-02, -2.78418695e-02,\n",
       "       -2.82776029e-02, -2.39504073e-02, -2.84848034e-02, -2.41662843e-02,\n",
       "       -1.04875299e-02, -2.48229539e-02, -4.56592147e-02, -2.54825266e-02,\n",
       "       -3.57914257e-02, -4.85869966e-03, -2.09084717e-02, -2.07974920e-02,\n",
       "       -9.02487056e-03, -9.50838642e-03, -1.07659793e-02, -2.42204600e-03,\n",
       "        1.27463437e-02, -2.27276997e-02, -3.54621273e-02, -1.14713489e-02,\n",
       "       -3.05853405e-02, -2.03148937e-02, -9.05372370e-05, -1.79379855e-02,\n",
       "       -1.60844300e-02, -2.69546998e-02, -4.73417461e-03, -2.05843531e-04,\n",
       "       -5.82605626e-02, -3.18433044e-02,  6.79545980e-03, -3.32254079e-02,\n",
       "       -1.81056647e-02, -1.30797592e-02, -1.73177552e-02, -6.96403141e-02,\n",
       "       -1.16113506e-02, -2.60988517e-02, -4.92273988e-02, -4.24991486e-02,\n",
       "       -2.65307729e-02, -3.79830523e-02, -5.88008823e-02, -8.23667574e-03,\n",
       "       -5.28213718e-03, -2.37764927e-02, -3.01714004e-02, -2.62204846e-02,\n",
       "       -5.95870477e-02, -3.33651744e-02, -3.70334894e-02, -1.61053243e-02,\n",
       "       -2.72804220e-02, -2.13470286e-02, -2.31752796e-02, -2.44380214e-02,\n",
       "       -9.64229588e-03, -2.52553226e-02, -2.71364028e-02, -3.11723301e-02,\n",
       "       -2.25277738e-02, -2.69059226e-02, -1.84666846e-02, -1.22324366e-03,\n",
       "       -3.63717654e-03, -2.50364778e-02, -2.17851170e-02, -2.51848946e-02,\n",
       "       -1.56080380e-02,  6.56568523e-03, -8.33113974e-03, -3.26611418e-02,\n",
       "       -3.36668161e-02, -1.56557156e-02, -1.27576336e-03, -1.86158692e-02,\n",
       "       -6.39769132e-04, -7.43792660e-03, -2.43029351e-02, -9.73920030e-03,\n",
       "       -1.47272057e-02, -3.59441074e-03, -5.54658038e-03, -1.41101652e-02,\n",
       "       -1.94571007e-02, -1.65549983e-02, -3.42636683e-03, -2.97116227e-02,\n",
       "       -9.91160648e-03, -5.79840221e-03, -3.02366895e-03, -1.40443115e-02,\n",
       "        6.39940586e-03, -3.06344080e-03, -9.99185031e-03, -2.74241624e-02,\n",
       "       -3.61630266e-03, -3.53712132e-03, -8.73042642e-03,  2.94188621e-03,\n",
       "       -1.24949409e-02, -1.01781182e-02,  1.15389105e-03, -1.21516736e-02,\n",
       "        5.89875518e-03, -2.40123951e-02,  4.58348857e-04, -1.87984075e-02,\n",
       "       -6.55898254e-03, -1.11925710e-02,  8.84047115e-03, -2.58535264e-03,\n",
       "       -2.16375267e-02, -3.03977303e-03, -1.30802514e-02, -2.29049245e-02,\n",
       "       -1.84816377e-02, -2.23295667e-04, -6.54625652e-03, -1.20547315e-02,\n",
       "       -6.36790917e-03, -1.63773591e-02, -8.90283167e-03, -5.95851635e-03,\n",
       "       -4.28499765e-03, -2.00255645e-02, -1.80276187e-02, -1.33881707e-02,\n",
       "       -1.34497027e-02,  4.14777403e-03,  1.20796011e-02, -1.05767677e-02,\n",
       "       -1.22981735e-02, -2.29618162e-03,  3.60099603e-03, -2.60682990e-04,\n",
       "       -1.55107493e-02,  2.61636689e-03, -1.04566441e-02, -2.58777420e-04,\n",
       "        1.24207018e-03, -3.21255708e-04, -1.33160067e-02, -8.34958155e-03,\n",
       "       -2.02722525e-03, -2.09434168e-02, -3.13443224e-04, -1.32850058e-02,\n",
       "       -1.03591677e-02, -2.06158357e-02,  2.61675251e-03, -1.86982334e-04,\n",
       "       -5.34012882e-03, -1.12609458e-02, -7.53539777e-03, -1.74324018e-03,\n",
       "        4.25673833e-03, -7.34351992e-03, -8.00240625e-03, -1.53986627e-02,\n",
       "       -7.32193761e-03,  5.24470431e-03, -1.33078764e-02, -1.00779510e-02,\n",
       "       -1.19532242e-03, -3.48042042e-03, -4.12801514e-03, -2.11025943e-02,\n",
       "       -6.46997569e-03, -7.47263603e-03, -2.31123163e-02,  4.78112269e-03,\n",
       "       -8.80811824e-03, -1.10122490e-02, -1.21721051e-02, -7.84172232e-03,\n",
       "       -4.92894118e-04, -1.05465640e-02, -1.93305869e-03, -5.65084595e-03,\n",
       "       -1.12909075e-02,  7.59288795e-03, -1.20559287e-02, -2.09548438e-02,\n",
       "       -7.75481787e-03, -9.92791487e-03, -1.14450249e-02, -3.89950221e-03,\n",
       "       -3.06126476e-03, -4.85608366e-03, -9.83959246e-03,  4.73188487e-03,\n",
       "       -1.51863406e-02,  2.52687083e-03, -1.10113110e-02, -1.61399111e-02,\n",
       "       -5.87058769e-03, -9.70850149e-03, -1.31872290e-02, -7.38268686e-03,\n",
       "       -4.36384950e-03, -1.26543574e-02, -1.00569529e-02, -9.62913138e-03,\n",
       "       -6.75065471e-03, -2.41615081e-02, -5.86592294e-03, -1.32562263e-02,\n",
       "       -4.53101942e-03, -9.23355329e-03, -1.29994554e-02, -5.29089912e-03,\n",
       "       -1.90417237e-03, -1.30813154e-02, -6.29900236e-03, -6.82875198e-03,\n",
       "        1.00574770e-02,  1.62463589e-03, -8.99998313e-03, -7.38011104e-04,\n",
       "       -2.09745107e-02, -8.68269618e-03, -2.49287114e-02, -1.13540389e-02,\n",
       "       -7.30939918e-03, -8.24041707e-03, -1.79135161e-02, -9.98220672e-03,\n",
       "       -6.42097162e-03, -2.38634665e-02, -1.72354000e-02, -4.33473658e-03,\n",
       "       -1.03191775e-02, -1.15182463e-02, -8.42916757e-03, -1.86526083e-02,\n",
       "       -5.45395068e-03, -1.62043091e-03,  8.71669710e-03, -9.90853143e-04,\n",
       "       -3.98369786e-03,  4.27148181e-03, -5.14588480e-03, -4.42578750e-03,\n",
       "       -2.66881092e-04,  4.01421523e-04, -8.90305184e-05, -1.40523694e-03,\n",
       "        3.87525640e-03, -8.62686184e-03, -1.86634192e-03,  1.02584050e-02,\n",
       "       -7.74025712e-03,  2.20430512e-05,  7.73942085e-04, -1.90650881e-03,\n",
       "        2.30444498e-03, -9.88128471e-03, -1.35038424e-02, -3.61676893e-03,\n",
       "       -9.43733500e-03,  1.64502106e-03, -7.98199268e-03, -5.60666633e-03,\n",
       "        4.04270788e-03, -6.52372063e-03, -3.06967507e-03, -2.42233869e-03,\n",
       "       -1.31426037e-02, -4.71638837e-03, -2.62495131e-03, -9.19587179e-03,\n",
       "       -9.16594656e-03, -7.29743387e-03, -1.41390644e-02, -6.71434954e-03,\n",
       "       -5.00734945e-03, -8.96657864e-03, -9.03587796e-03, -5.54220584e-03])"
      ]
     },
     "execution_count": 34,
     "metadata": {},
     "output_type": "execute_result"
    }
   ],
   "source": [
    "d1[3]-d2[3]"
   ]
  },
  {
   "cell_type": "code",
   "execution_count": 50,
   "metadata": {},
   "outputs": [],
   "source": [
    "d1=np.load(\"2L2PH0.1R/run_1/learning_curves.npy\",allow_pickle=True)\n",
    "d2=np.load(\"2L2PH0.1R/run_2/learning_curves.npy\",allow_pickle=True)\n",
    "std1 =np.load(\"2L2PH0.1R/run_1/stds.npy\",allow_pickle=True)\n",
    "d2=np.load(\"2L2PH0.1R/run_2/learning_curves.npy\",allow_pickle=True)"
   ]
  },
  {
   "cell_type": "code",
   "execution_count": 51,
   "metadata": {},
   "outputs": [
    {
     "name": "stderr",
     "output_type": "stream",
     "text": [
      "/usr/lib/python3/dist-packages/ipykernel_launcher.py:1: RuntimeWarning: divide by zero encountered in log10\n",
      "  \"\"\"Entry point for launching an IPython kernel.\n"
     ]
    },
    {
     "data": {
      "text/plain": [
       "[<matplotlib.lines.Line2D at 0x7f3cebed3cf8>]"
      ]
     },
     "execution_count": 51,
     "metadata": {},
     "output_type": "execute_result"
    },
    {
     "data": {
      "image/png": "[encoded data removed]",
      "text/plain": [
       "<Figure size 432x288 with 1 Axes>"
      ]
     },
     "metadata": {},
     "output_type": "display_data"
    }
   ],
   "source": [
    "plt.plot(np.log10(np.arange(len(d1[1]))),(d1-d2)[1])"
   ]
  },
  {
   "cell_type": "code",
   "execution_count": null,
   "metadata": {},
   "outputs": [],
   "source": []
  }
 ],
 "metadata": {
  "kernelspec": {
   "display_name": "Python 3",
   "language": "python",
   "name": "python3"
  },
  "language_info": {
   "codemirror_mode": {
    "name": "ipython",
    "version": 3
   },
   "file_extension": ".py",
   "mimetype": "text/x-python",
   "name": "python",
   "nbconvert_exporter": "python",
   "pygments_lexer": "ipython3",
   "version": "3.6.8"
  }
 },
 "nbformat": 4,
 "nbformat_minor": 2
}
