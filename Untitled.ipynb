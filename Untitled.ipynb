{
 "cells": [
  {
   "cell_type": "code",
   "execution_count": 1,
   "id": "female-coupon",
   "metadata": {},
   "outputs": [],
   "source": [
    "import numpy as np"
   ]
  },
  {
   "cell_type": "markdown",
   "id": "brilliant-wheel",
   "metadata": {},
   "source": [
    "Say we have 4 vectors (which are $|\\pm \\alpha\\rangle, |\\pm\\beta\\rangle$). We have then $\\rho_{1,2} = (|\\pm \\alpha><\\pm \\alpha| + |\\pm \\beta><\\pm \\beta|)/2$ with the association (1 --> +, 2--> -). We now want to create an orthonormal basis spanding that subspace, to write down $\\rho_1$ and \\rho2"
   ]
  },
  {
   "cell_type": "code",
   "execution_count": 89,
   "id": "legal-census",
   "metadata": {},
   "outputs": [],
   "source": [
    "def overlap(a,b):\n",
    "    return np.exp(-0.5*(a-b)**2)"
   ]
  },
  {
   "cell_type": "markdown",
   "id": "brief-montgomery",
   "metadata": {},
   "source": [
    "We are free to choose the first two elements which are $v1 = (|\\alpha + \\beta>)/N$ and $v2 = |\\alpha - \\beta>/N$"
   ]
  },
  {
   "cell_type": "code",
   "execution_count": 92,
   "id": "emerging-belize",
   "metadata": {},
   "outputs": [],
   "source": [
    "v1 = (alpha_plus + beta_plus)/N\n",
    "v2 = (alpha_plus - beta_plus)/N\n",
    "v3 = alpha_minus - a*v1 - b*v2\n",
    "v4= beta_minus - e*v3 - d*v2 - c*v1"
   ]
  },
  {
   "cell_type": "code",
   "execution_count": 109,
   "id": "tropical-opera",
   "metadata": {},
   "outputs": [],
   "source": [
    "alpha = 1\n",
    "beta = 0\n",
    "\n",
    "N = 1/np.sqrt(2*(1+overlap(alpha, beta)))\n",
    "\n",
    "alpha_plus = np.array([[1,1,0,0]])/(2*N)\n",
    "beta_plus = np.array([[1,-1,0,0]])/(2*N)\n",
    "\n",
    "a = (overlap(alpha,-alpha) + overlap(beta, -alpha))*N\n",
    "b = (overlap(alpha,-alpha) - overlap(beta, -alpha))*N\n",
    "\n",
    "alpha_minus = np.array([[a,b,1,0]])\n",
    "\n",
    "c = (overlap(-beta, alpha)  + overlap(-beta, beta)   )*N\n",
    "d = (overlap(-beta, alpha)  - overlap(-beta, beta)   )*N\n",
    "e = overlap(-beta, -alpha) - c*a - d*b\n",
    "beta_minus = np.array([[c , d , e, 1 ]])"
   ]
  },
  {
   "cell_type": "code",
   "execution_count": 110,
   "id": "existing-washington",
   "metadata": {},
   "outputs": [
    {
     "data": {
      "text/plain": [
       "array([[0.80326533, 0.80326533, 0.        , 0.        ],\n",
       "       [0.80326533, 0.80326533, 0.        , 0.        ],\n",
       "       [0.        , 0.        , 0.        , 0.        ],\n",
       "       [0.        , 0.        , 0.        , 0.        ]])"
      ]
     },
     "execution_count": 110,
     "metadata": {},
     "output_type": "execute_result"
    }
   ],
   "source": [
    "alpha_plus.T.dot(alpha_plus)"
   ]
  },
  {
   "cell_type": "code",
   "execution_count": 99,
   "id": "leading-liberal",
   "metadata": {},
   "outputs": [],
   "source": [
    "rho1 = (alpha_plus.T.dot(alpha_plus) + beta_plus.T.dot(beta_plus) )/2\n",
    "rho2 = (alpha_minus.T.dot(alpha_minus) + beta_minus.T.dot(beta_minus) )/2"
   ]
  },
  {
   "cell_type": "code",
   "execution_count": 100,
   "id": "metropolitan-illinois",
   "metadata": {},
   "outputs": [],
   "source": [
    "def helstrom(rho1,rho2):\n",
    "    trace_norm = np.sum(np.abs(np.linalg.eigvals(rho1-rho2)))\n",
    "    return (1 + trace_norm/2)/2"
   ]
  },
  {
   "cell_type": "code",
   "execution_count": 105,
   "id": "sexual-rider",
   "metadata": {},
   "outputs": [
    {
     "data": {
      "text/plain": [
       "array([[0.80326533, 0.        , 0.        , 0.        ],\n",
       "       [0.        , 0.80326533, 0.        , 0.        ],\n",
       "       [0.        , 0.        , 0.        , 0.        ],\n",
       "       [0.        , 0.        , 0.        , 0.        ]])"
      ]
     },
     "execution_count": 105,
     "metadata": {},
     "output_type": "execute_result"
    }
   ],
   "source": [
    "rho1"
   ]
  },
  {
   "cell_type": "code",
   "execution_count": 108,
   "id": "permanent-stephen",
   "metadata": {},
   "outputs": [
    {
     "data": {
      "text/plain": [
       "0.8032653298563167"
      ]
     },
     "execution_count": 108,
     "metadata": {},
     "output_type": "execute_result"
    }
   ],
   "source": [
    "(1/N**2)/4"
   ]
  },
  {
   "cell_type": "code",
   "execution_count": null,
   "id": "naval-harvest",
   "metadata": {},
   "outputs": [],
   "source": []
  }
 ],
 "metadata": {
  "kernelspec": {
   "display_name": "Python 3",
   "language": "python",
   "name": "python3"
  },
  "language_info": {
   "codemirror_mode": {
    "name": "ipython",
    "version": 3
   },
   "file_extension": ".py",
   "mimetype": "text/x-python",
   "name": "python",
   "nbconvert_exporter": "python",
   "pygments_lexer": "ipython3",
   "version": "3.6.9"
  }
 },
 "nbformat": 4,
 "nbformat_minor": 5
}
